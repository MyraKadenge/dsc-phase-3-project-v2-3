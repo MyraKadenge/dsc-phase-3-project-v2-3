{
 "cells": [
  {
   "cell_type": "markdown",
   "metadata": {},
   "source": [
    "## TANZANIA WATER PROJECT\n",
    "## ADD IMAGE"
   ]
  },
  {
   "cell_type": "markdown",
   "metadata": {},
   "source": [
    "# Objective of the study\n",
    "\n",
    "    Overview \n",
    "\n",
    "Tanzania, as a developing country, struggles with providing clean water to its population of over 57,000,000. There are many water points already established in the country, but some are in need of repair while others have failed altogether.\n",
    "\n",
    "\n",
    "Through this analysis we are going to answer the following questions:\n",
    "\n",
    "1. To identify which factors contribute to functionality of the well:\n",
    "Does source of water influence the functionality of the wells?\n",
    "\n",
    "Does Age effect the condition of the wells?\n",
    "\n",
    "Does having Public Meetings help to keep the wells functional?\n",
    "\n",
    "2. What is the best mode of payment for maintainence of wells?\n",
    "\n",
    "3. To predict which pumps are functional\n",
    "\n",
    "# Data description\n",
    "The datasets obtained were from https://www.drivendata.org/competitions/7/pump-it-up-data-mining-the-water-table/data/ of which provided four datasets whereby\n",
    "we had \n",
    "\n",
    "* Submission format which was the format of submitting the predictions, \n",
    "\n",
    "* Test set values which contained the independent variables that need prediction,\n",
    "\n",
    "* Training set labels which contains the dependent variable (status_group) for each of the rows in Training set values and lastly the\n",
    "\n",
    "* Training set values which contains the independent variables for the training set\n",
    "\n",
    "Some of the features in this dataset are:\n",
    "\n",
    "amount_tsh - Total static head (amount water available to waterpoint)\n",
    "\n",
    "date_recorded - The date the row was entered\n",
    "\n",
    "funder - Who funded the well\n",
    "\n",
    "gps_height - Altitude of the well\n",
    "\n",
    "installer - Organization that installed the well\n",
    "\n",
    "longitude - GPS coordinate\n",
    "\n",
    "latitude - GPS coordinate\n",
    "\n",
    "wpt_name - Name of the waterpoint if there is one\n",
    "\n",
    "num_private -\n",
    "\n",
    "basin - Geographic water basin\n",
    "\n",
    "\n",
    "subvillage - Geographic location\n",
    "\n",
    "region - Geographic location\n",
    "\n",
    "region_code - Geographic location (coded)\n",
    "\n",
    "district_code - Geographic location (coded)\n",
    "\n",
    "lga - Geographic location\n",
    "\n",
    "ward - Geographic location\n",
    "\n",
    "population - Population around the well\n",
    "\n",
    "public_meeting - True/False\n",
    "\n",
    "recorded_by - Group entering this row of data\n",
    "\n",
    "scheme_management - Who operates the waterpoint\n",
    "\n",
    "scheme_name - Who operates the waterpoint\n",
    "\n",
    "permit - If the waterpoint is permitted\n",
    "\n",
    "construction_year - Year the waterpoint was constructed\n",
    "\n",
    "extraction_type - The kind of extraction the waterpoint uses\n",
    "\n",
    "extraction_type_group - The kind of extraction the waterpoint uses\n",
    "\n",
    "extraction_type_class - The kind of extraction the waterpoint uses\n",
    "\n",
    "management - How the waterpoint is managed\n",
    "\n",
    "management_group - How the waterpoint is managed\n",
    "\n",
    "payment - What the water costs\n",
    "\n",
    "payment_type - What the water costs\n",
    "\n",
    "water_quality - The quality of the water\n",
    "\n",
    "quality_group - The quality of the water\n",
    "\n",
    "quantity - The quantity of water\n",
    "\n",
    "quantity_group - The quantity of water\n",
    "\n",
    "source - The source of the water\n",
    "\n",
    "source_type - The source of the water\n",
    "\n",
    "source_class - The source of the water\n",
    "\n",
    "waterpoint_type - The kind of waterpoint\n",
    "\n",
    "waterpoint_type_group - The kind of waterpoint\n",
    "\n",
    "\n",
    "\n",
    "we also have the labels in the dataset whic are;\n",
    "\n",
    "functional - the waterpoint is operational and there are no repairs needed\n",
    "\n",
    "functional needs repair - the waterpoint is operational, but needs repairs\n",
    "\n",
    "non functional - the waterpoint is not operational\n",
    "\n",
    "# Stakeholder\n",
    " Government Ministry of water & NGO's that will find this information useful in order to decide on which wells to repair and how much to allocate to each of them."
   ]
  },
  {
   "cell_type": "markdown",
   "metadata": {},
   "source": []
  },
  {
   "cell_type": "code",
   "execution_count": 1,
   "metadata": {},
   "outputs": [],
   "source": [
    "# we start by importing libraries\n",
    "import pandas as pd\n",
    "import numpy as np\n",
    "\n",
    "import matplotlib.pyplot as plt\n",
    "import seaborn as sns\n",
    "import statsmodels.api as sm\n",
    "from sklearn.preprocessing import OneHotEncoder, StandardScaler\n",
    "from sklearn.model_selection import train_test_split\n",
    "from sklearn.linear_model import LinearRegression\n",
    "from sklearn.metrics import confusion_matrix, ConfusionMatrixDisplay, plot_confusion_matrix,\\\n",
    "    precision_score, recall_score, accuracy_score, f1_score, log_loss,\\\n",
    "    roc_curve, roc_auc_score, classification_report\n",
    "from sklearn.tree import DecisionTreeClassifier, plot_tree, export_graphviz\n",
    "from sklearn.linear_model import LogisticRegression\n",
    "from imblearn.over_sampling import SMOTE\n",
    "from sklearn import tree\n"
   ]
  },
  {
   "cell_type": "code",
   "execution_count": 2,
   "metadata": {},
   "outputs": [],
   "source": [
    "#lets first view all the datasets to confirm on what they entail\n",
    "df1 = pd.read_csv(\"Training set labels.csv\") #this is the target class dataset\n",
    "df2 = pd.read_csv(\"Test set values.csv\")\n",
    "df3 = pd.read_csv(\"Training set values.csv\")"
   ]
  },
  {
   "cell_type": "code",
   "execution_count": 3,
   "metadata": {},
   "outputs": [
    {
     "data": {
      "text/html": [
       "<div>\n",
       "<style scoped>\n",
       "    .dataframe tbody tr th:only-of-type {\n",
       "        vertical-align: middle;\n",
       "    }\n",
       "\n",
       "    .dataframe tbody tr th {\n",
       "        vertical-align: top;\n",
       "    }\n",
       "\n",
       "    .dataframe thead th {\n",
       "        text-align: right;\n",
       "    }\n",
       "</style>\n",
       "<table border=\"1\" class=\"dataframe\">\n",
       "  <thead>\n",
       "    <tr style=\"text-align: right;\">\n",
       "      <th></th>\n",
       "      <th>id</th>\n",
       "      <th>status_group</th>\n",
       "    </tr>\n",
       "  </thead>\n",
       "  <tbody>\n",
       "    <tr>\n",
       "      <th>0</th>\n",
       "      <td>69572</td>\n",
       "      <td>functional</td>\n",
       "    </tr>\n",
       "    <tr>\n",
       "      <th>1</th>\n",
       "      <td>8776</td>\n",
       "      <td>functional</td>\n",
       "    </tr>\n",
       "    <tr>\n",
       "      <th>2</th>\n",
       "      <td>34310</td>\n",
       "      <td>functional</td>\n",
       "    </tr>\n",
       "    <tr>\n",
       "      <th>3</th>\n",
       "      <td>67743</td>\n",
       "      <td>non functional</td>\n",
       "    </tr>\n",
       "    <tr>\n",
       "      <th>4</th>\n",
       "      <td>19728</td>\n",
       "      <td>functional</td>\n",
       "    </tr>\n",
       "  </tbody>\n",
       "</table>\n",
       "</div>"
      ],
      "text/plain": [
       "      id    status_group\n",
       "0  69572      functional\n",
       "1   8776      functional\n",
       "2  34310      functional\n",
       "3  67743  non functional\n",
       "4  19728      functional"
      ]
     },
     "execution_count": 3,
     "metadata": {},
     "output_type": "execute_result"
    }
   ],
   "source": [
    "df1.head()\n",
    "#we cann see this is our target class or rather the dependent variables"
   ]
  },
  {
   "cell_type": "code",
   "execution_count": 4,
   "metadata": {},
   "outputs": [
    {
     "data": {
      "text/html": [
       "<div>\n",
       "<style scoped>\n",
       "    .dataframe tbody tr th:only-of-type {\n",
       "        vertical-align: middle;\n",
       "    }\n",
       "\n",
       "    .dataframe tbody tr th {\n",
       "        vertical-align: top;\n",
       "    }\n",
       "\n",
       "    .dataframe thead th {\n",
       "        text-align: right;\n",
       "    }\n",
       "</style>\n",
       "<table border=\"1\" class=\"dataframe\">\n",
       "  <thead>\n",
       "    <tr style=\"text-align: right;\">\n",
       "      <th></th>\n",
       "      <th>id</th>\n",
       "      <th>amount_tsh</th>\n",
       "      <th>date_recorded</th>\n",
       "      <th>funder</th>\n",
       "      <th>gps_height</th>\n",
       "      <th>installer</th>\n",
       "      <th>longitude</th>\n",
       "      <th>latitude</th>\n",
       "      <th>wpt_name</th>\n",
       "      <th>num_private</th>\n",
       "      <th>...</th>\n",
       "      <th>payment_type</th>\n",
       "      <th>water_quality</th>\n",
       "      <th>quality_group</th>\n",
       "      <th>quantity</th>\n",
       "      <th>quantity_group</th>\n",
       "      <th>source</th>\n",
       "      <th>source_type</th>\n",
       "      <th>source_class</th>\n",
       "      <th>waterpoint_type</th>\n",
       "      <th>waterpoint_type_group</th>\n",
       "    </tr>\n",
       "  </thead>\n",
       "  <tbody>\n",
       "    <tr>\n",
       "      <th>0</th>\n",
       "      <td>50785</td>\n",
       "      <td>0.0</td>\n",
       "      <td>2013-02-04</td>\n",
       "      <td>Dmdd</td>\n",
       "      <td>1996</td>\n",
       "      <td>DMDD</td>\n",
       "      <td>35.290799</td>\n",
       "      <td>-4.059696</td>\n",
       "      <td>Dinamu Secondary School</td>\n",
       "      <td>0</td>\n",
       "      <td>...</td>\n",
       "      <td>never pay</td>\n",
       "      <td>soft</td>\n",
       "      <td>good</td>\n",
       "      <td>seasonal</td>\n",
       "      <td>seasonal</td>\n",
       "      <td>rainwater harvesting</td>\n",
       "      <td>rainwater harvesting</td>\n",
       "      <td>surface</td>\n",
       "      <td>other</td>\n",
       "      <td>other</td>\n",
       "    </tr>\n",
       "    <tr>\n",
       "      <th>1</th>\n",
       "      <td>51630</td>\n",
       "      <td>0.0</td>\n",
       "      <td>2013-02-04</td>\n",
       "      <td>Government Of Tanzania</td>\n",
       "      <td>1569</td>\n",
       "      <td>DWE</td>\n",
       "      <td>36.656709</td>\n",
       "      <td>-3.309214</td>\n",
       "      <td>Kimnyak</td>\n",
       "      <td>0</td>\n",
       "      <td>...</td>\n",
       "      <td>never pay</td>\n",
       "      <td>soft</td>\n",
       "      <td>good</td>\n",
       "      <td>insufficient</td>\n",
       "      <td>insufficient</td>\n",
       "      <td>spring</td>\n",
       "      <td>spring</td>\n",
       "      <td>groundwater</td>\n",
       "      <td>communal standpipe</td>\n",
       "      <td>communal standpipe</td>\n",
       "    </tr>\n",
       "    <tr>\n",
       "      <th>2</th>\n",
       "      <td>17168</td>\n",
       "      <td>0.0</td>\n",
       "      <td>2013-02-01</td>\n",
       "      <td>NaN</td>\n",
       "      <td>1567</td>\n",
       "      <td>NaN</td>\n",
       "      <td>34.767863</td>\n",
       "      <td>-5.004344</td>\n",
       "      <td>Puma Secondary</td>\n",
       "      <td>0</td>\n",
       "      <td>...</td>\n",
       "      <td>never pay</td>\n",
       "      <td>soft</td>\n",
       "      <td>good</td>\n",
       "      <td>insufficient</td>\n",
       "      <td>insufficient</td>\n",
       "      <td>rainwater harvesting</td>\n",
       "      <td>rainwater harvesting</td>\n",
       "      <td>surface</td>\n",
       "      <td>other</td>\n",
       "      <td>other</td>\n",
       "    </tr>\n",
       "    <tr>\n",
       "      <th>3</th>\n",
       "      <td>45559</td>\n",
       "      <td>0.0</td>\n",
       "      <td>2013-01-22</td>\n",
       "      <td>Finn Water</td>\n",
       "      <td>267</td>\n",
       "      <td>FINN WATER</td>\n",
       "      <td>38.058046</td>\n",
       "      <td>-9.418672</td>\n",
       "      <td>Kwa Mzee Pange</td>\n",
       "      <td>0</td>\n",
       "      <td>...</td>\n",
       "      <td>unknown</td>\n",
       "      <td>soft</td>\n",
       "      <td>good</td>\n",
       "      <td>dry</td>\n",
       "      <td>dry</td>\n",
       "      <td>shallow well</td>\n",
       "      <td>shallow well</td>\n",
       "      <td>groundwater</td>\n",
       "      <td>other</td>\n",
       "      <td>other</td>\n",
       "    </tr>\n",
       "    <tr>\n",
       "      <th>4</th>\n",
       "      <td>49871</td>\n",
       "      <td>500.0</td>\n",
       "      <td>2013-03-27</td>\n",
       "      <td>Bruder</td>\n",
       "      <td>1260</td>\n",
       "      <td>BRUDER</td>\n",
       "      <td>35.006123</td>\n",
       "      <td>-10.950412</td>\n",
       "      <td>Kwa Mzee Turuka</td>\n",
       "      <td>0</td>\n",
       "      <td>...</td>\n",
       "      <td>monthly</td>\n",
       "      <td>soft</td>\n",
       "      <td>good</td>\n",
       "      <td>enough</td>\n",
       "      <td>enough</td>\n",
       "      <td>spring</td>\n",
       "      <td>spring</td>\n",
       "      <td>groundwater</td>\n",
       "      <td>communal standpipe</td>\n",
       "      <td>communal standpipe</td>\n",
       "    </tr>\n",
       "  </tbody>\n",
       "</table>\n",
       "<p>5 rows × 40 columns</p>\n",
       "</div>"
      ],
      "text/plain": [
       "      id  amount_tsh date_recorded                  funder  gps_height  \\\n",
       "0  50785         0.0    2013-02-04                    Dmdd        1996   \n",
       "1  51630         0.0    2013-02-04  Government Of Tanzania        1569   \n",
       "2  17168         0.0    2013-02-01                     NaN        1567   \n",
       "3  45559         0.0    2013-01-22              Finn Water         267   \n",
       "4  49871       500.0    2013-03-27                  Bruder        1260   \n",
       "\n",
       "    installer  longitude   latitude                 wpt_name  num_private  \\\n",
       "0        DMDD  35.290799  -4.059696  Dinamu Secondary School            0   \n",
       "1         DWE  36.656709  -3.309214                  Kimnyak            0   \n",
       "2         NaN  34.767863  -5.004344           Puma Secondary            0   \n",
       "3  FINN WATER  38.058046  -9.418672           Kwa Mzee Pange            0   \n",
       "4      BRUDER  35.006123 -10.950412          Kwa Mzee Turuka            0   \n",
       "\n",
       "   ... payment_type water_quality quality_group      quantity  quantity_group  \\\n",
       "0  ...    never pay          soft          good      seasonal        seasonal   \n",
       "1  ...    never pay          soft          good  insufficient    insufficient   \n",
       "2  ...    never pay          soft          good  insufficient    insufficient   \n",
       "3  ...      unknown          soft          good           dry             dry   \n",
       "4  ...      monthly          soft          good        enough          enough   \n",
       "\n",
       "                 source           source_type  source_class  \\\n",
       "0  rainwater harvesting  rainwater harvesting       surface   \n",
       "1                spring                spring   groundwater   \n",
       "2  rainwater harvesting  rainwater harvesting       surface   \n",
       "3          shallow well          shallow well   groundwater   \n",
       "4                spring                spring   groundwater   \n",
       "\n",
       "      waterpoint_type waterpoint_type_group  \n",
       "0               other                 other  \n",
       "1  communal standpipe    communal standpipe  \n",
       "2               other                 other  \n",
       "3               other                 other  \n",
       "4  communal standpipe    communal standpipe  \n",
       "\n",
       "[5 rows x 40 columns]"
      ]
     },
     "execution_count": 4,
     "metadata": {},
     "output_type": "execute_result"
    }
   ],
   "source": [
    "df2.head()\n",
    "#We see that these are the independent variables that need predictions"
   ]
  },
  {
   "cell_type": "code",
   "execution_count": 5,
   "metadata": {},
   "outputs": [
    {
     "data": {
      "text/html": [
       "<div>\n",
       "<style scoped>\n",
       "    .dataframe tbody tr th:only-of-type {\n",
       "        vertical-align: middle;\n",
       "    }\n",
       "\n",
       "    .dataframe tbody tr th {\n",
       "        vertical-align: top;\n",
       "    }\n",
       "\n",
       "    .dataframe thead th {\n",
       "        text-align: right;\n",
       "    }\n",
       "</style>\n",
       "<table border=\"1\" class=\"dataframe\">\n",
       "  <thead>\n",
       "    <tr style=\"text-align: right;\">\n",
       "      <th></th>\n",
       "      <th>id</th>\n",
       "      <th>amount_tsh</th>\n",
       "      <th>date_recorded</th>\n",
       "      <th>funder</th>\n",
       "      <th>gps_height</th>\n",
       "      <th>installer</th>\n",
       "      <th>longitude</th>\n",
       "      <th>latitude</th>\n",
       "      <th>wpt_name</th>\n",
       "      <th>num_private</th>\n",
       "      <th>...</th>\n",
       "      <th>payment_type</th>\n",
       "      <th>water_quality</th>\n",
       "      <th>quality_group</th>\n",
       "      <th>quantity</th>\n",
       "      <th>quantity_group</th>\n",
       "      <th>source</th>\n",
       "      <th>source_type</th>\n",
       "      <th>source_class</th>\n",
       "      <th>waterpoint_type</th>\n",
       "      <th>waterpoint_type_group</th>\n",
       "    </tr>\n",
       "  </thead>\n",
       "  <tbody>\n",
       "    <tr>\n",
       "      <th>0</th>\n",
       "      <td>69572</td>\n",
       "      <td>6000.0</td>\n",
       "      <td>2011-03-14</td>\n",
       "      <td>Roman</td>\n",
       "      <td>1390</td>\n",
       "      <td>Roman</td>\n",
       "      <td>34.938093</td>\n",
       "      <td>-9.856322</td>\n",
       "      <td>none</td>\n",
       "      <td>0</td>\n",
       "      <td>...</td>\n",
       "      <td>annually</td>\n",
       "      <td>soft</td>\n",
       "      <td>good</td>\n",
       "      <td>enough</td>\n",
       "      <td>enough</td>\n",
       "      <td>spring</td>\n",
       "      <td>spring</td>\n",
       "      <td>groundwater</td>\n",
       "      <td>communal standpipe</td>\n",
       "      <td>communal standpipe</td>\n",
       "    </tr>\n",
       "    <tr>\n",
       "      <th>1</th>\n",
       "      <td>8776</td>\n",
       "      <td>0.0</td>\n",
       "      <td>2013-03-06</td>\n",
       "      <td>Grumeti</td>\n",
       "      <td>1399</td>\n",
       "      <td>GRUMETI</td>\n",
       "      <td>34.698766</td>\n",
       "      <td>-2.147466</td>\n",
       "      <td>Zahanati</td>\n",
       "      <td>0</td>\n",
       "      <td>...</td>\n",
       "      <td>never pay</td>\n",
       "      <td>soft</td>\n",
       "      <td>good</td>\n",
       "      <td>insufficient</td>\n",
       "      <td>insufficient</td>\n",
       "      <td>rainwater harvesting</td>\n",
       "      <td>rainwater harvesting</td>\n",
       "      <td>surface</td>\n",
       "      <td>communal standpipe</td>\n",
       "      <td>communal standpipe</td>\n",
       "    </tr>\n",
       "    <tr>\n",
       "      <th>2</th>\n",
       "      <td>34310</td>\n",
       "      <td>25.0</td>\n",
       "      <td>2013-02-25</td>\n",
       "      <td>Lottery Club</td>\n",
       "      <td>686</td>\n",
       "      <td>World vision</td>\n",
       "      <td>37.460664</td>\n",
       "      <td>-3.821329</td>\n",
       "      <td>Kwa Mahundi</td>\n",
       "      <td>0</td>\n",
       "      <td>...</td>\n",
       "      <td>per bucket</td>\n",
       "      <td>soft</td>\n",
       "      <td>good</td>\n",
       "      <td>enough</td>\n",
       "      <td>enough</td>\n",
       "      <td>dam</td>\n",
       "      <td>dam</td>\n",
       "      <td>surface</td>\n",
       "      <td>communal standpipe multiple</td>\n",
       "      <td>communal standpipe</td>\n",
       "    </tr>\n",
       "    <tr>\n",
       "      <th>3</th>\n",
       "      <td>67743</td>\n",
       "      <td>0.0</td>\n",
       "      <td>2013-01-28</td>\n",
       "      <td>Unicef</td>\n",
       "      <td>263</td>\n",
       "      <td>UNICEF</td>\n",
       "      <td>38.486161</td>\n",
       "      <td>-11.155298</td>\n",
       "      <td>Zahanati Ya Nanyumbu</td>\n",
       "      <td>0</td>\n",
       "      <td>...</td>\n",
       "      <td>never pay</td>\n",
       "      <td>soft</td>\n",
       "      <td>good</td>\n",
       "      <td>dry</td>\n",
       "      <td>dry</td>\n",
       "      <td>machine dbh</td>\n",
       "      <td>borehole</td>\n",
       "      <td>groundwater</td>\n",
       "      <td>communal standpipe multiple</td>\n",
       "      <td>communal standpipe</td>\n",
       "    </tr>\n",
       "    <tr>\n",
       "      <th>4</th>\n",
       "      <td>19728</td>\n",
       "      <td>0.0</td>\n",
       "      <td>2011-07-13</td>\n",
       "      <td>Action In A</td>\n",
       "      <td>0</td>\n",
       "      <td>Artisan</td>\n",
       "      <td>31.130847</td>\n",
       "      <td>-1.825359</td>\n",
       "      <td>Shuleni</td>\n",
       "      <td>0</td>\n",
       "      <td>...</td>\n",
       "      <td>never pay</td>\n",
       "      <td>soft</td>\n",
       "      <td>good</td>\n",
       "      <td>seasonal</td>\n",
       "      <td>seasonal</td>\n",
       "      <td>rainwater harvesting</td>\n",
       "      <td>rainwater harvesting</td>\n",
       "      <td>surface</td>\n",
       "      <td>communal standpipe</td>\n",
       "      <td>communal standpipe</td>\n",
       "    </tr>\n",
       "  </tbody>\n",
       "</table>\n",
       "<p>5 rows × 40 columns</p>\n",
       "</div>"
      ],
      "text/plain": [
       "      id  amount_tsh date_recorded        funder  gps_height     installer  \\\n",
       "0  69572      6000.0    2011-03-14         Roman        1390         Roman   \n",
       "1   8776         0.0    2013-03-06       Grumeti        1399       GRUMETI   \n",
       "2  34310        25.0    2013-02-25  Lottery Club         686  World vision   \n",
       "3  67743         0.0    2013-01-28        Unicef         263        UNICEF   \n",
       "4  19728         0.0    2011-07-13   Action In A           0       Artisan   \n",
       "\n",
       "   longitude   latitude              wpt_name  num_private  ... payment_type  \\\n",
       "0  34.938093  -9.856322                  none            0  ...     annually   \n",
       "1  34.698766  -2.147466              Zahanati            0  ...    never pay   \n",
       "2  37.460664  -3.821329           Kwa Mahundi            0  ...   per bucket   \n",
       "3  38.486161 -11.155298  Zahanati Ya Nanyumbu            0  ...    never pay   \n",
       "4  31.130847  -1.825359               Shuleni            0  ...    never pay   \n",
       "\n",
       "  water_quality quality_group      quantity  quantity_group  \\\n",
       "0          soft          good        enough          enough   \n",
       "1          soft          good  insufficient    insufficient   \n",
       "2          soft          good        enough          enough   \n",
       "3          soft          good           dry             dry   \n",
       "4          soft          good      seasonal        seasonal   \n",
       "\n",
       "                 source           source_type  source_class  \\\n",
       "0                spring                spring   groundwater   \n",
       "1  rainwater harvesting  rainwater harvesting       surface   \n",
       "2                   dam                   dam       surface   \n",
       "3           machine dbh              borehole   groundwater   \n",
       "4  rainwater harvesting  rainwater harvesting       surface   \n",
       "\n",
       "               waterpoint_type waterpoint_type_group  \n",
       "0           communal standpipe    communal standpipe  \n",
       "1           communal standpipe    communal standpipe  \n",
       "2  communal standpipe multiple    communal standpipe  \n",
       "3  communal standpipe multiple    communal standpipe  \n",
       "4           communal standpipe    communal standpipe  \n",
       "\n",
       "[5 rows x 40 columns]"
      ]
     },
     "execution_count": 5,
     "metadata": {},
     "output_type": "execute_result"
    }
   ],
   "source": [
    "df3.head()\n",
    "#these are the independent variables for the training set"
   ]
  },
  {
   "cell_type": "code",
   "execution_count": 6,
   "metadata": {},
   "outputs": [
    {
     "name": "stdout",
     "output_type": "stream",
     "text": [
      "<class 'pandas.core.frame.DataFrame'>\n",
      "Int64Index: 59400 entries, 0 to 59399\n",
      "Data columns (total 41 columns):\n",
      " #   Column                 Non-Null Count  Dtype  \n",
      "---  ------                 --------------  -----  \n",
      " 0   id                     59400 non-null  int64  \n",
      " 1   status_group           59400 non-null  object \n",
      " 2   amount_tsh             59400 non-null  float64\n",
      " 3   date_recorded          59400 non-null  object \n",
      " 4   funder                 55765 non-null  object \n",
      " 5   gps_height             59400 non-null  int64  \n",
      " 6   installer              55745 non-null  object \n",
      " 7   longitude              59400 non-null  float64\n",
      " 8   latitude               59400 non-null  float64\n",
      " 9   wpt_name               59400 non-null  object \n",
      " 10  num_private            59400 non-null  int64  \n",
      " 11  basin                  59400 non-null  object \n",
      " 12  subvillage             59029 non-null  object \n",
      " 13  region                 59400 non-null  object \n",
      " 14  region_code            59400 non-null  int64  \n",
      " 15  district_code          59400 non-null  int64  \n",
      " 16  lga                    59400 non-null  object \n",
      " 17  ward                   59400 non-null  object \n",
      " 18  population             59400 non-null  int64  \n",
      " 19  public_meeting         56066 non-null  object \n",
      " 20  recorded_by            59400 non-null  object \n",
      " 21  scheme_management      55523 non-null  object \n",
      " 22  scheme_name            31234 non-null  object \n",
      " 23  permit                 56344 non-null  object \n",
      " 24  construction_year      59400 non-null  int64  \n",
      " 25  extraction_type        59400 non-null  object \n",
      " 26  extraction_type_group  59400 non-null  object \n",
      " 27  extraction_type_class  59400 non-null  object \n",
      " 28  management             59400 non-null  object \n",
      " 29  management_group       59400 non-null  object \n",
      " 30  payment                59400 non-null  object \n",
      " 31  payment_type           59400 non-null  object \n",
      " 32  water_quality          59400 non-null  object \n",
      " 33  quality_group          59400 non-null  object \n",
      " 34  quantity               59400 non-null  object \n",
      " 35  quantity_group         59400 non-null  object \n",
      " 36  source                 59400 non-null  object \n",
      " 37  source_type            59400 non-null  object \n",
      " 38  source_class           59400 non-null  object \n",
      " 39  waterpoint_type        59400 non-null  object \n",
      " 40  waterpoint_type_group  59400 non-null  object \n",
      "dtypes: float64(3), int64(7), object(31)\n",
      "memory usage: 19.0+ MB\n"
     ]
    }
   ],
   "source": [
    "#so we will combine our training dataframe with the dependent datframe\n",
    "#we use inner to return the rows where the key only exists in both of them\n",
    "data = pd.merge (df1, df3, on='id', how='inner')\n",
    "data.info()"
   ]
  },
  {
   "cell_type": "markdown",
   "metadata": {},
   "source": [
    "The target feature in this dataset is the 'status_group' feature. This feature is an indicator of whether or not the water well is 'functional', 'functional needs repairs', or 'non functional'.\n",
    "\n",
    "Also this are some of the features we are going to use:\n",
    "\n",
    ".amount_tsh: Amount water available to waterpoint\n",
    "\n",
    ".date_recorded: The date the row was entered\n",
    "\n",
    ".funder: Who funded the well\n",
    "\n",
    ".gps_height: Altitude of the well\n",
    "\n",
    ".installer: Organization that installed the well\n",
    "\n",
    ".longitude: GPS coordinate\n",
    "\n",
    ".latitude: GPS coordinate\n",
    "\n",
    ".wpt_name: Name of the waterpoint if there is one\n",
    "\n",
    "Among others."
   ]
  },
  {
   "cell_type": "markdown",
   "metadata": {},
   "source": [
    "## Data cleaning"
   ]
  },
  {
   "cell_type": "code",
   "execution_count": 7,
   "metadata": {},
   "outputs": [
    {
     "data": {
      "text/plain": [
       "id                           0\n",
       "status_group                 0\n",
       "amount_tsh                   0\n",
       "date_recorded                0\n",
       "funder                    3635\n",
       "gps_height                   0\n",
       "installer                 3655\n",
       "longitude                    0\n",
       "latitude                     0\n",
       "wpt_name                     0\n",
       "num_private                  0\n",
       "basin                        0\n",
       "subvillage                 371\n",
       "region                       0\n",
       "region_code                  0\n",
       "district_code                0\n",
       "lga                          0\n",
       "ward                         0\n",
       "population                   0\n",
       "public_meeting            3334\n",
       "recorded_by                  0\n",
       "scheme_management         3877\n",
       "scheme_name              28166\n",
       "permit                    3056\n",
       "construction_year            0\n",
       "extraction_type              0\n",
       "extraction_type_group        0\n",
       "extraction_type_class        0\n",
       "management                   0\n",
       "management_group             0\n",
       "payment                      0\n",
       "payment_type                 0\n",
       "water_quality                0\n",
       "quality_group                0\n",
       "quantity                     0\n",
       "quantity_group               0\n",
       "source                       0\n",
       "source_type                  0\n",
       "source_class                 0\n",
       "waterpoint_type              0\n",
       "waterpoint_type_group        0\n",
       "dtype: int64"
      ]
     },
     "execution_count": 7,
     "metadata": {},
     "output_type": "execute_result"
    }
   ],
   "source": [
    "data.isna().sum()\n",
    "#we will analyze these missing varoables later on"
   ]
  },
  {
   "cell_type": "markdown",
   "metadata": {},
   "source": [
    "Lets visualize our target and compare to other features"
   ]
  },
  {
   "cell_type": "code",
   "execution_count": 8,
   "metadata": {},
   "outputs": [
    {
     "data": {
      "text/plain": [
       "0    32259\n",
       "2    22824\n",
       "1     4317\n",
       "Name: target, dtype: int64"
      ]
     },
     "execution_count": 8,
     "metadata": {},
     "output_type": "execute_result"
    }
   ],
   "source": [
    "# Convert the 'status_group' column to a categorical data type so that it can be easily converted into numerical codes later\n",
    "data['status_group'] = data['status_group'].astype('category')\n",
    "\n",
    "# Convert the categorical values into numerical codes and creating  a new column\n",
    "data['target'] = data['status_group'].cat.codes\n",
    "\n",
    "# Display the counts of each numerical code in the 'target' column\n",
    "data['target'].value_counts()"
   ]
  },
  {
   "cell_type": "code",
   "execution_count": 9,
   "metadata": {},
   "outputs": [
    {
     "data": {
      "image/png": "[encoded data removed]",
      "text/plain": [
       "<Figure size 576x360 with 1 Axes>"
      ]
     },
     "metadata": {
      "needs_background": "light"
     },
     "output_type": "display_data"
    }
   ],
   "source": [
    "#Now we can plot them\n",
    "# Plotting the value counts of the 'status_group' column in descending order using a bar plot\n",
    "data['status_group'].value_counts(ascending=False).plot(kind='bar', figsize=(8,5), color=['red','midnightblue','purple'])\n",
    "\n",
    "# Adding a title to the plot with a larger font size and bold font weight\n",
    "plt.title(\"Water Pump Status\", fontweight='bold', fontsize=18)\n",
    "\n",
    "# Adding a label to the x-axis with a larger font size, bold font weight, and descriptive text\n",
    "plt.xlabel('Status of the Water Pump', fontweight='bold', fontsize=10)\n",
    "\n",
    "# Adding a label to the y-axis with a larger font size, bold font weight, and descriptive text\n",
    "plt.ylabel('Value Counts', fontweight='bold', fontsize=10)\n",
    "\n",
    "# Adding gridlines to the plot along the y-axis with a dashed linestyle and reduced opacity\n",
    "plt.grid(axis='y', linestyle='--', alpha=0.6)\n",
    "\n",
    "# Displaying the plot\n",
    "plt.show()\n"
   ]
  },
  {
   "cell_type": "markdown",
   "metadata": {},
   "source": [
    "It is clear that there's plenty of imbalance in our classes. We will therefore combine the non-functional and functional needs repair into one class so that eventually we can drop the status group and use the target column"
   ]
  },
  {
   "cell_type": "code",
   "execution_count": 10,
   "metadata": {},
   "outputs": [
    {
     "data": {
      "text/plain": [
       "functional      32259\n",
       "needs repair    27141\n",
       "Name: status_group, dtype: int64"
      ]
     },
     "execution_count": 10,
     "metadata": {},
     "output_type": "execute_result"
    }
   ],
   "source": [
    "# Replace \"functional needs repair\" and \"non functional\" with \"needs repair\" in the 'status_group' column\n",
    "data['status_group'] = data['status_group'].replace(to_replace=[\"functional needs repair\", \"non functional\"], value=\"needs repair\")\n",
    "\n",
    "# Display the value counts of each category in the 'status_group' column after replacement\n",
    "data['status_group'].value_counts()"
   ]
  },
  {
   "cell_type": "code",
   "execution_count": 11,
   "metadata": {},
   "outputs": [
    {
     "data": {
      "image/png": "[encoded data removed]",
      "text/plain": [
       "<Figure size 576x360 with 1 Axes>"
      ]
     },
     "metadata": {
      "needs_background": "light"
     },
     "output_type": "display_data"
    }
   ],
   "source": [
    "# Plotting the value counts of the 'status_group' column in descending order using a bar plot\n",
    "data['status_group'].value_counts(ascending=False).plot(kind='bar', figsize=(8,5), color=['darkgreen','midnightblue','purple'])\n",
    "\n",
    "# Adding a title to the plot with a larger font size and bold font weight\n",
    "plt.title(\"Water Pump Status\", fontweight='bold', fontsize=18)\n",
    "\n",
    "# Adding a label to the x-axis with a larger font size, bold font weight, and descriptive text\n",
    "plt.xlabel('Status of the Water Pump', fontweight='bold', fontsize=10)\n",
    "\n",
    "# Adding a label to the y-axis with a larger font size, bold font weight, and descriptive text\n",
    "plt.ylabel('Value Counts', fontweight='bold', fontsize=10)\n",
    "\n",
    "# Adding gridlines to the plot along the y-axis with a dashed linestyle and reduced opacity\n",
    "plt.grid(axis='y', linestyle='--', alpha=0.6)\n",
    "\n",
    "# Displaying the plot\n",
    "plt.show()\n"
   ]
  },
  {
   "cell_type": "code",
   "execution_count": 12,
   "metadata": {},
   "outputs": [
    {
     "data": {
      "text/plain": [
       "0    32259\n",
       "1    27141\n",
       "Name: target, dtype: int64"
      ]
     },
     "execution_count": 12,
     "metadata": {},
     "output_type": "execute_result"
    }
   ],
   "source": [
    "# Convert the 'status_group' column to a categorical data type\n",
    "data['status_group'] = data['status_group'].astype('category')\n",
    "\n",
    "# Convert the categorical values into numerical codes\n",
    "data['target'] = data['status_group'].cat.codes\n",
    "\n",
    "# Display the counts of each numerical code in the 'target' column\n",
    "data['target'].value_counts()"
   ]
  },
  {
   "cell_type": "code",
   "execution_count": 13,
   "metadata": {},
   "outputs": [
    {
     "data": {
      "text/html": [
       "<div>\n",
       "<style scoped>\n",
       "    .dataframe tbody tr th:only-of-type {\n",
       "        vertical-align: middle;\n",
       "    }\n",
       "\n",
       "    .dataframe tbody tr th {\n",
       "        vertical-align: top;\n",
       "    }\n",
       "\n",
       "    .dataframe thead th {\n",
       "        text-align: right;\n",
       "    }\n",
       "</style>\n",
       "<table border=\"1\" class=\"dataframe\">\n",
       "  <thead>\n",
       "    <tr style=\"text-align: right;\">\n",
       "      <th></th>\n",
       "      <th>id</th>\n",
       "      <th>status_group</th>\n",
       "      <th>amount_tsh</th>\n",
       "      <th>date_recorded</th>\n",
       "      <th>funder</th>\n",
       "      <th>gps_height</th>\n",
       "      <th>installer</th>\n",
       "      <th>longitude</th>\n",
       "      <th>latitude</th>\n",
       "      <th>wpt_name</th>\n",
       "      <th>...</th>\n",
       "      <th>water_quality</th>\n",
       "      <th>quality_group</th>\n",
       "      <th>quantity</th>\n",
       "      <th>quantity_group</th>\n",
       "      <th>source</th>\n",
       "      <th>source_type</th>\n",
       "      <th>source_class</th>\n",
       "      <th>waterpoint_type</th>\n",
       "      <th>waterpoint_type_group</th>\n",
       "      <th>target</th>\n",
       "    </tr>\n",
       "  </thead>\n",
       "  <tbody>\n",
       "    <tr>\n",
       "      <th>0</th>\n",
       "      <td>69572</td>\n",
       "      <td>functional</td>\n",
       "      <td>6000.0</td>\n",
       "      <td>2011-03-14</td>\n",
       "      <td>Roman</td>\n",
       "      <td>1390</td>\n",
       "      <td>Roman</td>\n",
       "      <td>34.938093</td>\n",
       "      <td>-9.856322</td>\n",
       "      <td>none</td>\n",
       "      <td>...</td>\n",
       "      <td>soft</td>\n",
       "      <td>good</td>\n",
       "      <td>enough</td>\n",
       "      <td>enough</td>\n",
       "      <td>spring</td>\n",
       "      <td>spring</td>\n",
       "      <td>groundwater</td>\n",
       "      <td>communal standpipe</td>\n",
       "      <td>communal standpipe</td>\n",
       "      <td>0</td>\n",
       "    </tr>\n",
       "    <tr>\n",
       "      <th>1</th>\n",
       "      <td>8776</td>\n",
       "      <td>functional</td>\n",
       "      <td>0.0</td>\n",
       "      <td>2013-03-06</td>\n",
       "      <td>Grumeti</td>\n",
       "      <td>1399</td>\n",
       "      <td>GRUMETI</td>\n",
       "      <td>34.698766</td>\n",
       "      <td>-2.147466</td>\n",
       "      <td>Zahanati</td>\n",
       "      <td>...</td>\n",
       "      <td>soft</td>\n",
       "      <td>good</td>\n",
       "      <td>insufficient</td>\n",
       "      <td>insufficient</td>\n",
       "      <td>rainwater harvesting</td>\n",
       "      <td>rainwater harvesting</td>\n",
       "      <td>surface</td>\n",
       "      <td>communal standpipe</td>\n",
       "      <td>communal standpipe</td>\n",
       "      <td>0</td>\n",
       "    </tr>\n",
       "    <tr>\n",
       "      <th>2</th>\n",
       "      <td>34310</td>\n",
       "      <td>functional</td>\n",
       "      <td>25.0</td>\n",
       "      <td>2013-02-25</td>\n",
       "      <td>Lottery Club</td>\n",
       "      <td>686</td>\n",
       "      <td>World vision</td>\n",
       "      <td>37.460664</td>\n",
       "      <td>-3.821329</td>\n",
       "      <td>Kwa Mahundi</td>\n",
       "      <td>...</td>\n",
       "      <td>soft</td>\n",
       "      <td>good</td>\n",
       "      <td>enough</td>\n",
       "      <td>enough</td>\n",
       "      <td>dam</td>\n",
       "      <td>dam</td>\n",
       "      <td>surface</td>\n",
       "      <td>communal standpipe multiple</td>\n",
       "      <td>communal standpipe</td>\n",
       "      <td>0</td>\n",
       "    </tr>\n",
       "    <tr>\n",
       "      <th>3</th>\n",
       "      <td>67743</td>\n",
       "      <td>needs repair</td>\n",
       "      <td>0.0</td>\n",
       "      <td>2013-01-28</td>\n",
       "      <td>Unicef</td>\n",
       "      <td>263</td>\n",
       "      <td>UNICEF</td>\n",
       "      <td>38.486161</td>\n",
       "      <td>-11.155298</td>\n",
       "      <td>Zahanati Ya Nanyumbu</td>\n",
       "      <td>...</td>\n",
       "      <td>soft</td>\n",
       "      <td>good</td>\n",
       "      <td>dry</td>\n",
       "      <td>dry</td>\n",
       "      <td>machine dbh</td>\n",
       "      <td>borehole</td>\n",
       "      <td>groundwater</td>\n",
       "      <td>communal standpipe multiple</td>\n",
       "      <td>communal standpipe</td>\n",
       "      <td>1</td>\n",
       "    </tr>\n",
       "    <tr>\n",
       "      <th>4</th>\n",
       "      <td>19728</td>\n",
       "      <td>functional</td>\n",
       "      <td>0.0</td>\n",
       "      <td>2011-07-13</td>\n",
       "      <td>Action In A</td>\n",
       "      <td>0</td>\n",
       "      <td>Artisan</td>\n",
       "      <td>31.130847</td>\n",
       "      <td>-1.825359</td>\n",
       "      <td>Shuleni</td>\n",
       "      <td>...</td>\n",
       "      <td>soft</td>\n",
       "      <td>good</td>\n",
       "      <td>seasonal</td>\n",
       "      <td>seasonal</td>\n",
       "      <td>rainwater harvesting</td>\n",
       "      <td>rainwater harvesting</td>\n",
       "      <td>surface</td>\n",
       "      <td>communal standpipe</td>\n",
       "      <td>communal standpipe</td>\n",
       "      <td>0</td>\n",
       "    </tr>\n",
       "  </tbody>\n",
       "</table>\n",
       "<p>5 rows × 42 columns</p>\n",
       "</div>"
      ],
      "text/plain": [
       "      id  status_group  amount_tsh date_recorded        funder  gps_height  \\\n",
       "0  69572    functional      6000.0    2011-03-14         Roman        1390   \n",
       "1   8776    functional         0.0    2013-03-06       Grumeti        1399   \n",
       "2  34310    functional        25.0    2013-02-25  Lottery Club         686   \n",
       "3  67743  needs repair         0.0    2013-01-28        Unicef         263   \n",
       "4  19728    functional         0.0    2011-07-13   Action In A           0   \n",
       "\n",
       "      installer  longitude   latitude              wpt_name  ...  \\\n",
       "0         Roman  34.938093  -9.856322                  none  ...   \n",
       "1       GRUMETI  34.698766  -2.147466              Zahanati  ...   \n",
       "2  World vision  37.460664  -3.821329           Kwa Mahundi  ...   \n",
       "3        UNICEF  38.486161 -11.155298  Zahanati Ya Nanyumbu  ...   \n",
       "4       Artisan  31.130847  -1.825359               Shuleni  ...   \n",
       "\n",
       "   water_quality quality_group      quantity quantity_group  \\\n",
       "0           soft          good        enough         enough   \n",
       "1           soft          good  insufficient   insufficient   \n",
       "2           soft          good        enough         enough   \n",
       "3           soft          good           dry            dry   \n",
       "4           soft          good      seasonal       seasonal   \n",
       "\n",
       "                 source           source_type source_class  \\\n",
       "0                spring                spring  groundwater   \n",
       "1  rainwater harvesting  rainwater harvesting      surface   \n",
       "2                   dam                   dam      surface   \n",
       "3           machine dbh              borehole  groundwater   \n",
       "4  rainwater harvesting  rainwater harvesting      surface   \n",
       "\n",
       "               waterpoint_type  waterpoint_type_group target  \n",
       "0           communal standpipe     communal standpipe      0  \n",
       "1           communal standpipe     communal standpipe      0  \n",
       "2  communal standpipe multiple     communal standpipe      0  \n",
       "3  communal standpipe multiple     communal standpipe      1  \n",
       "4           communal standpipe     communal standpipe      0  \n",
       "\n",
       "[5 rows x 42 columns]"
      ]
     },
     "execution_count": 13,
     "metadata": {},
     "output_type": "execute_result"
    }
   ],
   "source": [
    "data.head()"
   ]
  },
  {
   "cell_type": "code",
   "execution_count": 14,
   "metadata": {},
   "outputs": [
    {
     "data": {
      "text/plain": [
       "functional      0.543081\n",
       "needs repair    0.456919\n",
       "Name: status_group, dtype: float64"
      ]
     },
     "execution_count": 14,
     "metadata": {},
     "output_type": "execute_result"
    }
   ],
   "source": [
    "# Calculate the relative frequency of each unique value in the 'status_group' column\n",
    "data['status_group'].value_counts(normalize=True)"
   ]
  },
  {
   "cell_type": "markdown",
   "metadata": {},
   "source": [
    "We are going to use these numbers as a baseline when comparing subgroups. For example,if a region has less than 54% functionality, we know they are below average and some features within that region are effecting the functionality of the wells.\n",
    "\n",
    "This will help us identify important features more easily, and give us references for further data exploration."
   ]
  },
  {
   "cell_type": "code",
   "execution_count": 15,
   "metadata": {},
   "outputs": [
    {
     "name": "stdout",
     "output_type": "stream",
     "text": [
      "<class 'pandas.core.frame.DataFrame'>\n",
      "Int64Index: 59400 entries, 0 to 59399\n",
      "Data columns (total 44 columns):\n",
      " #   Column                 Non-Null Count  Dtype   \n",
      "---  ------                 --------------  -----   \n",
      " 0   id                     59400 non-null  int64   \n",
      " 1   status_group           59400 non-null  category\n",
      " 2   amount_tsh             59400 non-null  float64 \n",
      " 3   date_recorded          59400 non-null  object  \n",
      " 4   funder                 55765 non-null  object  \n",
      " 5   gps_height             59400 non-null  int64   \n",
      " 6   installer              55745 non-null  object  \n",
      " 7   longitude              59400 non-null  float64 \n",
      " 8   latitude               59400 non-null  float64 \n",
      " 9   wpt_name               59400 non-null  object  \n",
      " 10  num_private            59400 non-null  int64   \n",
      " 11  basin                  59400 non-null  object  \n",
      " 12  subvillage             59029 non-null  object  \n",
      " 13  region                 59400 non-null  object  \n",
      " 14  region_code            59400 non-null  int64   \n",
      " 15  district_code          59400 non-null  int64   \n",
      " 16  lga                    59400 non-null  object  \n",
      " 17  ward                   59400 non-null  object  \n",
      " 18  population             59400 non-null  int64   \n",
      " 19  public_meeting         56066 non-null  object  \n",
      " 20  recorded_by            59400 non-null  object  \n",
      " 21  scheme_management      55523 non-null  object  \n",
      " 22  scheme_name            31234 non-null  object  \n",
      " 23  permit                 56344 non-null  object  \n",
      " 24  construction_year      59400 non-null  int64   \n",
      " 25  extraction_type        59400 non-null  object  \n",
      " 26  extraction_type_group  59400 non-null  object  \n",
      " 27  extraction_type_class  59400 non-null  object  \n",
      " 28  management             59400 non-null  object  \n",
      " 29  management_group       59400 non-null  object  \n",
      " 30  payment                59400 non-null  object  \n",
      " 31  payment_type           59400 non-null  object  \n",
      " 32  water_quality          59400 non-null  object  \n",
      " 33  quality_group          59400 non-null  object  \n",
      " 34  quantity               59400 non-null  object  \n",
      " 35  quantity_group         59400 non-null  object  \n",
      " 36  source                 59400 non-null  object  \n",
      " 37  source_type            59400 non-null  object  \n",
      " 38  source_class           59400 non-null  object  \n",
      " 39  waterpoint_type        59400 non-null  object  \n",
      " 40  waterpoint_type_group  59400 non-null  object  \n",
      " 41  target                 59400 non-null  int8    \n",
      " 42  functional             59400 non-null  uint8   \n",
      " 43  needs repair           59400 non-null  uint8   \n",
      "dtypes: category(1), float64(3), int64(7), int8(1), object(30), uint8(2)\n",
      "memory usage: 21.3+ MB\n"
     ]
    }
   ],
   "source": [
    "# create dummies for status group to make plotting easier\n",
    "dummies_status = pd.get_dummies(data['status_group'])\n",
    "data = data.join(dummies_status) #to add the dummy variables back to the original dataframe\n",
    "\n",
    "data.info()"
   ]
  },
  {
   "cell_type": "markdown",
   "metadata": {},
   "source": [
    "# Data exploration"
   ]
  },
  {
   "cell_type": "markdown",
   "metadata": {},
   "source": [
    "Plotting of functions for the categorical variables"
   ]
  },
  {
   "cell_type": "code",
   "execution_count": 16,
   "metadata": {},
   "outputs": [],
   "source": [
    "# Define a function named plot_percent with one parameter: col (column name)\n",
    "def plot_percent(col):\n",
    "    \"\"\"Plot the mean functionalities of pumps compared to 'col'\n",
    "    \n",
    "    Args:\n",
    "        col (str): column name\n",
    "    \"\"\"\n",
    "    # Determine the layout of subplots based on the number of unique values in the specified column\n",
    "    if data[col].nunique() > 4:\n",
    "        rows = 2\n",
    "        cols = 1\n",
    "        width = 12 if data[col].nunique() > 12 else data[col].nunique()\n",
    "        height = 14\n",
    "    else:\n",
    "        rows = 1\n",
    "        cols = 2\n",
    "        width = 12\n",
    "        height = 3\n",
    "    \n",
    "    # Create a new figure with subplots based on the determined layout\n",
    "    fig, ax = plt.subplots(rows, cols, figsize=(width, height))\n",
    "        \n",
    "    # Iterate over each unique status in the 'status_group' column\n",
    "    for idx, status in enumerate(data['status_group'].unique().tolist()):\n",
    "        # Plot the mean value of the specified status for each category in the specified column\n",
    "        data.groupby(col).mean()[status].sort_values().plot.bar(ax=ax[idx])\n",
    "        # Add a horizontal line representing the overall mean of the specified status\n",
    "        ax[idx].axhline(y=data[status].mean(), color='r', linestyle='-')\n",
    "        # Set title, y-axis label, and adjust the y-axis limits for each subplot\n",
    "        ax[idx].set_title(f\"{status.title()} pumps by {col.title()}\", fontsize=14)\n",
    "        ax[idx].set_ylabel('Percent')\n",
    "        ax[idx].set_xlabel('')\n",
    "        ax[idx].set_ylim(0,data.groupby(col).mean()[status].max()*1.2)\n",
    "    \n",
    "    # Adjust the layout of subplots to prevent overlap\n",
    "    fig.tight_layout()"
   ]
  },
  {
   "cell_type": "code",
   "execution_count": 17,
   "metadata": {},
   "outputs": [
    {
     "name": "stdout",
     "output_type": "stream",
     "text": [
      "Unique Values: 2145\n",
      "Missing Values: 3655/59400\n",
      "Possible Missing Values: 777 (wells with '0' as the value)\n"
     ]
    },
    {
     "data": {
      "text/plain": [
       "DWE                   17402\n",
       "Government             1825\n",
       "RWE                    1206\n",
       "Commu                  1060\n",
       "DANIDA                 1050\n",
       "KKKT                    898\n",
       "Hesawa                  840\n",
       "0                       777\n",
       "TCRS                    707\n",
       "Central government      622\n",
       "CES                     610\n",
       "Community               553\n",
       "DANID                   552\n",
       "District Council        551\n",
       "HESAWA                  539\n",
       "World vision            408\n",
       "LGA                     408\n",
       "WEDECO                  397\n",
       "TASAF                   396\n",
       "District council        392\n",
       "Name: installer, dtype: int64"
      ]
     },
     "execution_count": 17,
     "metadata": {},
     "output_type": "execute_result"
    }
   ],
   "source": [
    "#Let's now analyze those misisng variables\n",
    "#Installer variable\n",
    "# Analyzing 'installer' variable\n",
    "print(f\"Unique Values: {data['installer'].nunique()}\")  # Counting the number of unique values in the 'installer' column\n",
    "print(f\"Missing Values: {data['installer'].isna().sum()}/{data.shape[0]}\")  # Counting missing values in the 'installer' column\n",
    "print(f\"Possible Missing Values: {(data['installer'] == '0').sum()} (wells with '0' as the value)\")  # Counting occurrences of '0' as a possible placeholder for missing values\n",
    "data['installer'].value_counts().head(20)  # Displaying the top 20 most frequent values in the 'installer' column"
   ]
  },
  {
   "cell_type": "code",
   "execution_count": 18,
   "metadata": {},
   "outputs": [
    {
     "name": "stdout",
     "output_type": "stream",
     "text": [
      "Unique Values: 1897\n",
      "Missing Values: 3635/59400\n",
      "Possible Missing Values: 777 (wells with '0' as the value)\n"
     ]
    },
    {
     "data": {
      "text/plain": [
       "Government Of Tanzania    9084\n",
       "Danida                    3114\n",
       "Hesawa                    2202\n",
       "Rwssp                     1374\n",
       "World Bank                1349\n",
       "Kkkt                      1287\n",
       "World Vision              1246\n",
       "Unicef                    1057\n",
       "Tasaf                      877\n",
       "District Council           843\n",
       "Dhv                        829\n",
       "Private Individual         826\n",
       "Dwsp                       811\n",
       "0                          777\n",
       "Norad                      765\n",
       "Germany Republi            610\n",
       "Tcrs                       602\n",
       "Ministry Of Water          590\n",
       "Water                      583\n",
       "Dwe                        484\n",
       "Name: funder, dtype: int64"
      ]
     },
     "execution_count": 18,
     "metadata": {},
     "output_type": "execute_result"
    }
   ],
   "source": [
    "# Analyzing 'funder' variable\n",
    "print(f\"Unique Values: {data['funder'].nunique()}\")  # Counting the number of unique values in the 'funder' column\n",
    "print(f\"Missing Values: {data['funder'].isna().sum()}/{data.shape[0]}\")  # Counting missing values in the 'funder' column\n",
    "print(f\"Possible Missing Values: {(data['funder'] == '0').sum()} (wells with '0' as the value)\")  # Counting occurrences of '0' as a possible placeholder for missing values\n",
    "data['funder'].value_counts().head(20)  # Displaying the top 20 most frequent values in the 'funder' column\n"
   ]
  },
  {
   "cell_type": "markdown",
   "metadata": {},
   "source": [
    "We see that DWE (District Water Engineering) and Govt are the major installers which is similar to our funders."
   ]
  },
  {
   "cell_type": "code",
   "execution_count": 19,
   "metadata": {},
   "outputs": [
    {
     "data": {
      "text/html": [
       "<div>\n",
       "<style scoped>\n",
       "    .dataframe tbody tr th:only-of-type {\n",
       "        vertical-align: middle;\n",
       "    }\n",
       "\n",
       "    .dataframe tbody tr th {\n",
       "        vertical-align: top;\n",
       "    }\n",
       "\n",
       "    .dataframe thead tr th {\n",
       "        text-align: left;\n",
       "    }\n",
       "\n",
       "    .dataframe thead tr:last-of-type th {\n",
       "        text-align: right;\n",
       "    }\n",
       "</style>\n",
       "<table border=\"1\" class=\"dataframe\">\n",
       "  <thead>\n",
       "    <tr>\n",
       "      <th></th>\n",
       "      <th></th>\n",
       "      <th></th>\n",
       "      <th></th>\n",
       "      <th></th>\n",
       "      <th></th>\n",
       "      <th></th>\n",
       "      <th colspan=\"2\" halign=\"left\">functional</th>\n",
       "      <th colspan=\"2\" halign=\"left\">needs repair</th>\n",
       "    </tr>\n",
       "    <tr>\n",
       "      <th></th>\n",
       "      <th></th>\n",
       "      <th></th>\n",
       "      <th></th>\n",
       "      <th></th>\n",
       "      <th></th>\n",
       "      <th></th>\n",
       "      <th>mean</th>\n",
       "      <th>sum</th>\n",
       "      <th>mean</th>\n",
       "      <th>sum</th>\n",
       "    </tr>\n",
       "    <tr>\n",
       "      <th>basin</th>\n",
       "      <th>region</th>\n",
       "      <th>region_code</th>\n",
       "      <th>district_code</th>\n",
       "      <th>lga</th>\n",
       "      <th>ward</th>\n",
       "      <th>subvillage</th>\n",
       "      <th></th>\n",
       "      <th></th>\n",
       "      <th></th>\n",
       "      <th></th>\n",
       "    </tr>\n",
       "  </thead>\n",
       "  <tbody>\n",
       "    <tr>\n",
       "      <th rowspan=\"5\" valign=\"top\">Internal</th>\n",
       "      <th rowspan=\"5\" valign=\"top\">Arusha</th>\n",
       "      <th rowspan=\"5\" valign=\"top\">2</th>\n",
       "      <th rowspan=\"5\" valign=\"top\">1</th>\n",
       "      <th rowspan=\"5\" valign=\"top\">Monduli</th>\n",
       "      <th rowspan=\"5\" valign=\"top\">Engaruka</th>\n",
       "      <th>Hyhh</th>\n",
       "      <td>0.0</td>\n",
       "      <td>0</td>\n",
       "      <td>1.0</td>\n",
       "      <td>1</td>\n",
       "    </tr>\n",
       "    <tr>\n",
       "      <th>Madukani</th>\n",
       "      <td>0.0</td>\n",
       "      <td>0</td>\n",
       "      <td>1.0</td>\n",
       "      <td>1</td>\n",
       "    </tr>\n",
       "    <tr>\n",
       "      <th>Mkaoo</th>\n",
       "      <td>0.0</td>\n",
       "      <td>0</td>\n",
       "      <td>1.0</td>\n",
       "      <td>3</td>\n",
       "    </tr>\n",
       "    <tr>\n",
       "      <th>Mula</th>\n",
       "      <td>0.0</td>\n",
       "      <td>0</td>\n",
       "      <td>1.0</td>\n",
       "      <td>1</td>\n",
       "    </tr>\n",
       "    <tr>\n",
       "      <th>Mwembeni</th>\n",
       "      <td>0.0</td>\n",
       "      <td>0</td>\n",
       "      <td>1.0</td>\n",
       "      <td>1</td>\n",
       "    </tr>\n",
       "  </tbody>\n",
       "</table>\n",
       "</div>"
      ],
      "text/plain": [
       "                                                                      functional  \\\n",
       "                                                                            mean   \n",
       "basin    region region_code district_code lga     ward     subvillage              \n",
       "Internal Arusha 2           1             Monduli Engaruka Hyhh              0.0   \n",
       "                                                           Madukani          0.0   \n",
       "                                                           Mkaoo             0.0   \n",
       "                                                           Mula              0.0   \n",
       "                                                           Mwembeni          0.0   \n",
       "\n",
       "                                                                           \\\n",
       "                                                                      sum   \n",
       "basin    region region_code district_code lga     ward     subvillage       \n",
       "Internal Arusha 2           1             Monduli Engaruka Hyhh         0   \n",
       "                                                           Madukani     0   \n",
       "                                                           Mkaoo        0   \n",
       "                                                           Mula         0   \n",
       "                                                           Mwembeni     0   \n",
       "\n",
       "                                                                      needs repair  \\\n",
       "                                                                              mean   \n",
       "basin    region region_code district_code lga     ward     subvillage                \n",
       "Internal Arusha 2           1             Monduli Engaruka Hyhh                1.0   \n",
       "                                                           Madukani            1.0   \n",
       "                                                           Mkaoo               1.0   \n",
       "                                                           Mula                1.0   \n",
       "                                                           Mwembeni            1.0   \n",
       "\n",
       "                                                                           \n",
       "                                                                      sum  \n",
       "basin    region region_code district_code lga     ward     subvillage      \n",
       "Internal Arusha 2           1             Monduli Engaruka Hyhh         1  \n",
       "                                                           Madukani     1  \n",
       "                                                           Mkaoo        3  \n",
       "                                                           Mula         1  \n",
       "                                                           Mwembeni     1  "
      ]
     },
     "execution_count": 19,
     "metadata": {},
     "output_type": "execute_result"
    }
   ],
   "source": [
    "# Grouping the data by multiple categorical variables and performing aggregation on target variables\n",
    "data.groupby(['basin', 'region', 'region_code', 'district_code', 'lga', 'ward', 'subvillage'])[\n",
    "    ['functional', 'needs repair']].agg(['mean','sum']).head()\n"
   ]
  },
  {
   "cell_type": "markdown",
   "metadata": {},
   "source": [
    "For this group, the mean and sum of the 'functional' variable are 0.0 and 0, respectively, indicating that none of the water pumps in this group are functional. Similarly, the mean and sum of the 'needs repair' variable are 1.0 and 1, respectively, indicating that all water pumps in this group need repair."
   ]
  },
  {
   "cell_type": "code",
   "execution_count": 20,
   "metadata": {},
   "outputs": [
    {
     "data": {
      "image/png": "[encoded data removed]",
      "text/plain": [
       "<Figure size 576x360 with 1 Axes>"
      ]
     },
     "metadata": {
      "needs_background": "light"
     },
     "output_type": "display_data"
    }
   ],
   "source": [
    "# Grouping the data by 'basin' and 'status_group', and then unstacking the results to make it suitable for plotting\n",
    "sub_df = data.groupby('basin')['status_group'].value_counts(ascending=True).unstack()\n",
    "\n",
    "# Plotting the DataFrame using a bar plot\n",
    "sub_df.plot(kind='bar', figsize=(8,5))\n",
    "\n",
    "# Adding labels to the x-axis, y-axis, and title\n",
    "plt.xlabel(\"Water Source (Basin)\", fontweight='bold')\n",
    "plt.xticks(rotation=45, fontweight='bold')\n",
    "plt.ylabel(\"Pump Functionality\")\n",
    "plt.title('Pump Functionality based on Basin', fontsize=14, fontweight='bold')\n",
    "\n",
    "# Adding a legend with a custom location and title\n",
    "plt.legend(bbox_to_anchor=(1.0, 0.9), title='Water Quantity');"
   ]
  },
  {
   "cell_type": "markdown",
   "metadata": {},
   "source": [
    "The basins that seem to be more reliable are Rufiji, Pangani and Nyasa"
   ]
  },
  {
   "cell_type": "code",
   "execution_count": 21,
   "metadata": {},
   "outputs": [
    {
     "data": {
      "image/png": "[encoded data removed]",
      "text/plain": [
       "<Figure size 720x360 with 1 Axes>"
      ]
     },
     "metadata": {
      "needs_background": "light"
     },
     "output_type": "display_data"
    }
   ],
   "source": [
    "# Grouping the data by 'region' and 'status_group', and then unstacking the results to make it suitable for plotting\n",
    "sub_df = data.groupby('region')['status_group'].value_counts(ascending=True).unstack()\n",
    "\n",
    "# Plotting the DataFrame using a bar plot\n",
    "sub_df.plot(kind='bar', figsize=(10,5))\n",
    "\n",
    "# Adding labels to the x-axis, y-axis, and a title\n",
    "plt.xlabel(\"Region\", fontweight='bold')\n",
    "plt.xticks(rotation=45, fontweight='bold')  # Rotating x-axis labels for better readability\n",
    "plt.ylabel(\"Pump Functionality Counts\")\n",
    "plt.title('Pump Functionality based on Region', fontsize=14, fontweight='bold')\n",
    "\n",
    "# Adding a legend with a custom location and title\n",
    "plt.legend(bbox_to_anchor=(1.0, 1.0), title='Water Quantity');"
   ]
  },
  {
   "cell_type": "markdown",
   "metadata": {},
   "source": [
    "Iringa region seems to have a good number of functioning pumps"
   ]
  },
  {
   "cell_type": "code",
   "execution_count": 22,
   "metadata": {},
   "outputs": [
    {
     "data": {
      "image/png": "[encoded data removed]",
      "text/plain": [
       "<Figure size 720x360 with 1 Axes>"
      ]
     },
     "metadata": {
      "needs_background": "light"
     },
     "output_type": "display_data"
    }
   ],
   "source": [
    "# Grouping the data by 'basin' and calculating the mean of the 'target' variable (encoded status_group)\n",
    "source_df = data.groupby('basin')['target'].mean()\n",
    "\n",
    "# Sorting the values and plotting the DataFrame using a bar plot with a specified color and figsize\n",
    "source_df.sort_values().plot(kind='bar', color=['brown'], figsize=(10,5))\n",
    "\n",
    "# Adding labels to the x-axis, y-axis, and a title\n",
    "plt.xlabel(\"Quality of Water\")\n",
    "plt.xticks(rotation=90)  # Rotating x-axis labels for better readability\n",
    "plt.axhline(y=data['target'].mean(), color='gray')  # Adding a horizontal line representing the overall mean likelihood of needing repairs\n",
    "plt.ylabel(\"Likelihood of Needing Repairs\")\n",
    "plt.title('Likelihood of Needing Repairs vs. Basin (Water Source)', fontsize=14, fontweight='bold');"
   ]
  },
  {
   "cell_type": "markdown",
   "metadata": {},
   "source": [
    "Lake Nyasa, Pangani, Rufiji seem to have more than 60% of their pumps functioning with a less likelihood of needing repaires."
   ]
  },
  {
   "cell_type": "code",
   "execution_count": 23,
   "metadata": {},
   "outputs": [
    {
     "name": "stdout",
     "output_type": "stream",
     "text": [
      "Unique Values: 12\n",
      "Missing Values: 0/59400\n",
      "Possible Missing Values: 0 (wells with '0' as the value)\n"
     ]
    },
    {
     "data": {
      "text/plain": [
       "vwc                 40507\n",
       "wug                  6515\n",
       "water board          2933\n",
       "wua                  2535\n",
       "private operator     1971\n",
       "parastatal           1768\n",
       "water authority       904\n",
       "other                 844\n",
       "company               685\n",
       "unknown               561\n",
       "other - school         99\n",
       "trust                  78\n",
       "Name: management, dtype: int64"
      ]
     },
     "execution_count": 23,
     "metadata": {},
     "output_type": "execute_result"
    }
   ],
   "source": [
    "# Analyzing the 'management' variable\n",
    "print(f\"Unique Values: {data['management'].nunique()}\")  # Counting the number of unique values in the 'management' column\n",
    "print(f\"Missing Values: {data['management'].isna().sum()}/{data.shape[0]}\")  # Counting missing values in the 'management' column\n",
    "print(f\"Possible Missing Values: {(data['management'] == '0').sum()} (wells with '0' as the value)\")  # Counting occurrences of '0' as a possible placeholder for missing values\n",
    "data['management'].value_counts().head(20)  # Displaying the top 20 most frequent values in the 'management' column"
   ]
  },
  {
   "cell_type": "code",
   "execution_count": 24,
   "metadata": {},
   "outputs": [
    {
     "data": {
      "text/html": [
       "<div>\n",
       "<style scoped>\n",
       "    .dataframe tbody tr th:only-of-type {\n",
       "        vertical-align: middle;\n",
       "    }\n",
       "\n",
       "    .dataframe tbody tr th {\n",
       "        vertical-align: top;\n",
       "    }\n",
       "\n",
       "    .dataframe thead th {\n",
       "        text-align: right;\n",
       "    }\n",
       "</style>\n",
       "<table border=\"1\" class=\"dataframe\">\n",
       "  <thead>\n",
       "    <tr style=\"text-align: right;\">\n",
       "      <th></th>\n",
       "      <th></th>\n",
       "      <th>functional</th>\n",
       "      <th>needs repair</th>\n",
       "    </tr>\n",
       "    <tr>\n",
       "      <th>management_group</th>\n",
       "      <th>management</th>\n",
       "      <th></th>\n",
       "      <th></th>\n",
       "    </tr>\n",
       "  </thead>\n",
       "  <tbody>\n",
       "    <tr>\n",
       "      <th rowspan=\"4\" valign=\"top\">commercial</th>\n",
       "      <th>company</th>\n",
       "      <td>0.389781</td>\n",
       "      <td>0.610219</td>\n",
       "    </tr>\n",
       "    <tr>\n",
       "      <th>private operator</th>\n",
       "      <td>0.748858</td>\n",
       "      <td>0.251142</td>\n",
       "    </tr>\n",
       "    <tr>\n",
       "      <th>trust</th>\n",
       "      <td>0.589744</td>\n",
       "      <td>0.410256</td>\n",
       "    </tr>\n",
       "    <tr>\n",
       "      <th>water authority</th>\n",
       "      <td>0.493363</td>\n",
       "      <td>0.506637</td>\n",
       "    </tr>\n",
       "    <tr>\n",
       "      <th rowspan=\"2\" valign=\"top\">other</th>\n",
       "      <th>other</th>\n",
       "      <td>0.598341</td>\n",
       "      <td>0.401659</td>\n",
       "    </tr>\n",
       "    <tr>\n",
       "      <th>other - school</th>\n",
       "      <td>0.232323</td>\n",
       "      <td>0.767677</td>\n",
       "    </tr>\n",
       "    <tr>\n",
       "      <th>parastatal</th>\n",
       "      <th>parastatal</th>\n",
       "      <td>0.576923</td>\n",
       "      <td>0.423077</td>\n",
       "    </tr>\n",
       "    <tr>\n",
       "      <th>unknown</th>\n",
       "      <th>unknown</th>\n",
       "      <td>0.399287</td>\n",
       "      <td>0.600713</td>\n",
       "    </tr>\n",
       "    <tr>\n",
       "      <th rowspan=\"4\" valign=\"top\">user-group</th>\n",
       "      <th>vwc</th>\n",
       "      <td>0.504234</td>\n",
       "      <td>0.495766</td>\n",
       "    </tr>\n",
       "    <tr>\n",
       "      <th>water board</th>\n",
       "      <td>0.739857</td>\n",
       "      <td>0.260143</td>\n",
       "    </tr>\n",
       "    <tr>\n",
       "      <th>wua</th>\n",
       "      <td>0.690730</td>\n",
       "      <td>0.309270</td>\n",
       "    </tr>\n",
       "    <tr>\n",
       "      <th>wug</th>\n",
       "      <td>0.599540</td>\n",
       "      <td>0.400460</td>\n",
       "    </tr>\n",
       "  </tbody>\n",
       "</table>\n",
       "</div>"
      ],
      "text/plain": [
       "                                   functional  needs repair\n",
       "management_group management                                \n",
       "commercial       company             0.389781      0.610219\n",
       "                 private operator    0.748858      0.251142\n",
       "                 trust               0.589744      0.410256\n",
       "                 water authority     0.493363      0.506637\n",
       "other            other               0.598341      0.401659\n",
       "                 other - school      0.232323      0.767677\n",
       "parastatal       parastatal          0.576923      0.423077\n",
       "unknown          unknown             0.399287      0.600713\n",
       "user-group       vwc                 0.504234      0.495766\n",
       "                 water board         0.739857      0.260143\n",
       "                 wua                 0.690730      0.309270\n",
       "                 wug                 0.599540      0.400460"
      ]
     },
     "execution_count": 24,
     "metadata": {},
     "output_type": "execute_result"
    }
   ],
   "source": [
    "# Grouping the data by 'management_group' and 'management', and then calculating the mean of 'functional' and 'needs repair' variables\n",
    "data.groupby(['management_group', 'management'])[['functional', 'needs repair']].mean()"
   ]
  },
  {
   "cell_type": "markdown",
   "metadata": {},
   "source": [
    "\"Pumps managed by private operators and the water board have a good percentage of functioning, which is approximately 74.88% and 73.98%, respectively, whereas other pumps need repair.\""
   ]
  },
  {
   "cell_type": "code",
   "execution_count": 25,
   "metadata": {},
   "outputs": [
    {
     "name": "stdout",
     "output_type": "stream",
     "text": [
      "Unique Values: 7\n",
      "Missing Values: 0/59400\n",
      "Possible Missing Values: 0 (wells with '0' as the value)\n",
      "Unique Values: 7\n",
      "Missing Values: 0/59400\n",
      "Possible Missing Values: 0 (wells with '0' as the value)\n"
     ]
    },
    {
     "data": {
      "text/plain": [
       "never pay     25348\n",
       "per bucket     8985\n",
       "monthly        8300\n",
       "unknown        8157\n",
       "on failure     3914\n",
       "annually       3642\n",
       "other          1054\n",
       "Name: payment_type, dtype: int64"
      ]
     },
     "execution_count": 25,
     "metadata": {},
     "output_type": "execute_result"
    }
   ],
   "source": [
    "# Analysis of the 'payment' variable\n",
    "print(f\"Unique Values: {data['payment'].nunique()}\")  # Counting the number of unique values in the 'payment' column\n",
    "print(f\"Missing Values: {data['payment'].isna().sum()}/{data.shape[0]}\")  # Counting missing values in the 'payment' column\n",
    "print(f\"Possible Missing Values: {(data['payment'] == '0').sum()} (wells with '0' as the value)\")  # Counting occurrences of '0' as a possible placeholder for missing values\n",
    "data['payment'].value_counts().head(20)  # Displaying the top 20 most frequent values in the 'payment' column\n",
    "\n",
    "# Analysis of the 'payment_type' variable\n",
    "print(f\"Unique Values: {data['payment_type'].nunique()}\")  # Counting the number of unique values in the 'payment_type' column\n",
    "print(f\"Missing Values: {data['payment_type'].isna().sum()}/{data.shape[0]}\")  # Counting missing values in the 'payment_type' column\n",
    "print(f\"Possible Missing Values: {(data['payment_type'] == '0').sum()} (wells with '0' as the value)\")  # Counting occurrences of '0' as a possible placeholder for missing values\n",
    "data['payment_type'].value_counts().head(20)  # Displaying the top 20 most frequent values in the 'payment_type' column"
   ]
  },
  {
   "cell_type": "markdown",
   "metadata": {},
   "source": [
    "The analysis reveals that both the 'payment' and 'payment_type' variables have seven unique values, with no missing values or occurrences of '0' as a placeholder. The most common payment methods include 'never pay', 'per bucket', 'monthly', and 'unknown', indicating varied payment structures within the dataset, with 'never pay' being the most prevalent method across both variables."
   ]
  },
  {
   "cell_type": "markdown",
   "metadata": {},
   "source": [
    "# Numeric variables"
   ]
  },
  {
   "cell_type": "code",
   "execution_count": 26,
   "metadata": {},
   "outputs": [
    {
     "name": "stdout",
     "output_type": "stream",
     "text": [
      "Unique Values: 2428\n",
      "Missing Values: 0/59400\n",
      "Possible Missing Values: 0 (wells with '0' as the value)\n"
     ]
    },
    {
     "data": {
      "text/plain": [
       " 0       20438\n",
       "-15         60\n",
       "-16         55\n",
       "-13         55\n",
       "-20         52\n",
       " 1290       52\n",
       "-14         51\n",
       " 303        51\n",
       "-18         49\n",
       "-19         47\n",
       " 1269       46\n",
       " 1295       46\n",
       " 1304       45\n",
       "-23         45\n",
       " 280        44\n",
       " 1538       44\n",
       " 1286       44\n",
       "-8          44\n",
       "-17         44\n",
       " 1332       43\n",
       "Name: gps_height, dtype: int64"
      ]
     },
     "execution_count": 26,
     "metadata": {},
     "output_type": "execute_result"
    }
   ],
   "source": [
    "# GPS-HEIGHT\n",
    "# Counting the number of unique altitude values in the 'gps_height' column\n",
    "print(f\"Unique Values: {data['gps_height'].nunique()}\")\n",
    "\n",
    "# Counting missing values in the 'gps_height' column and displaying the count out of the total number of records\n",
    "print(f\"Missing Values: {data['gps_height'].isna().sum()}/{data.shape[0]}\")\n",
    "\n",
    "# Counting occurrences where the altitude is recorded as '0', possibly indicating missing or unknown values\n",
    "print(f\"Possible Missing Values: {(data['gps_height'] == '0').sum()} (wells with '0' as the value)\")\n",
    "\n",
    "# Displaying the top 20 most frequent altitude values\n",
    "data['gps_height'].value_counts().head(20)"
   ]
  },
  {
   "cell_type": "markdown",
   "metadata": {},
   "source": [
    "The analysis of the 'gps_height' variable indicates a diverse range of altitude values with no missing or potentially missing data, with the most frequent altitude recorded at 0 meters and a variety of other altitudes present in the dataset."
   ]
  },
  {
   "cell_type": "code",
   "execution_count": 27,
   "metadata": {},
   "outputs": [
    {
     "data": {
      "image/png": "[encoded data removed]",
      "text/plain": [
       "<Figure size 576x432 with 1 Axes>"
      ]
     },
     "metadata": {
      "needs_background": "light"
     },
     "output_type": "display_data"
    }
   ],
   "source": [
    "fig, ax = plt.subplots(figsize=(8, 6))  # Create a figure and axes object\n",
    "fig.suptitle('Logistic Regression', fontsize=16)  # Add a title to the figure\n",
    "sns.scatterplot(x='gps_height', y='target', data=data[(data['gps_height'] != 0)], ax=ax)  # Scatter plot of GPS height vs. target\n",
    "sns.regplot(x='gps_height', y='target', data=data[(data['gps_height'] != 0)], logistic=True, scatter=False, color='black', ax=ax)  # Logistic regression line\n",
    "ax.set_xlabel('GPS Height', fontsize=14)  # Set x-axis label\n",
    "ax.set_ylabel('Well Status', fontsize=14)  # Set y-axis label\n",
    "plt.show()  # Show the plot"
   ]
  },
  {
   "cell_type": "code",
   "execution_count": 28,
   "metadata": {},
   "outputs": [
    {
     "name": "stdout",
     "output_type": "stream",
     "text": [
      "Unique Values: 55\n",
      "Missing Values: 0/59400\n",
      "Possible Missing Values: 0 (wells with '0' as the value)\n"
     ]
    },
    {
     "data": {
      "text/plain": [
       "0       20709\n",
       "2010     2645\n",
       "2008     2613\n",
       "2009     2533\n",
       "2000     2091\n",
       "2007     1587\n",
       "2006     1471\n",
       "2003     1286\n",
       "2011     1256\n",
       "2004     1123\n",
       "2012     1084\n",
       "2002     1075\n",
       "1978     1037\n",
       "1995     1014\n",
       "2005     1011\n",
       "1999      979\n",
       "1998      966\n",
       "1990      954\n",
       "1985      945\n",
       "1980      811\n",
       "Name: construction_year, dtype: int64"
      ]
     },
     "execution_count": 28,
     "metadata": {},
     "output_type": "execute_result"
    }
   ],
   "source": [
    "# CONSTRUCTION YEAR\n",
    "# Counting the number of unique construction years in the dataset\n",
    "print(f\"Unique Values: {data['construction_year'].nunique()}\")\n",
    "\n",
    "# Counting missing values in the 'construction_year' column and displaying the count out of the total number of records\n",
    "print(f\"Missing Values: {data['construction_year'].isna().sum()}/{data.shape[0]}\")\n",
    "\n",
    "# Counting occurrences where the construction year is recorded as '0', possibly indicating missing or unknown values\n",
    "print(f\"Possible Missing Values: {(data['construction_year'] == '0').sum()} (wells with '0' as the value)\")\n",
    "\n",
    "# Displaying the top 20 most frequent construction years\n",
    "data['construction_year'].value_counts().head(20)"
   ]
  },
  {
   "cell_type": "code",
   "execution_count": 29,
   "metadata": {},
   "outputs": [
    {
     "data": {
      "text/plain": [
       "2024    20709\n",
       "14       2645\n",
       "16       2613\n",
       "15       2533\n",
       "24       2091\n",
       "17       1587\n",
       "18       1471\n",
       "21       1286\n",
       "13       1256\n",
       "20       1123\n",
       "12       1084\n",
       "22       1075\n",
       "46       1037\n",
       "29       1014\n",
       "19       1011\n",
       "25        979\n",
       "26        966\n",
       "34        954\n",
       "39        945\n",
       "44        811\n",
       "28        811\n",
       "40        779\n",
       "42        744\n",
       "30        738\n",
       "52        708\n",
       "50        676\n",
       "27        644\n",
       "32        640\n",
       "31        608\n",
       "23        540\n",
       "36        521\n",
       "41        488\n",
       "49        437\n",
       "38        434\n",
       "48        414\n",
       "54        411\n",
       "33        324\n",
       "35        316\n",
       "37        302\n",
       "43        238\n",
       "47        202\n",
       "45        192\n",
       "51        184\n",
       "11        176\n",
       "53        145\n",
       "64        102\n",
       "57         88\n",
       "61         85\n",
       "56         77\n",
       "55         59\n",
       "60         40\n",
       "62         30\n",
       "63         21\n",
       "59         19\n",
       "58         17\n",
       "Name: age_of_well, dtype: int64"
      ]
     },
     "execution_count": 29,
     "metadata": {},
     "output_type": "execute_result"
    }
   ],
   "source": [
    "from datetime import datetime\n",
    "data['age_of_well']=datetime.now().year - data['construction_year']\n",
    "\n",
    "data['age_of_well'].value_counts()"
   ]
  },
  {
   "cell_type": "code",
   "execution_count": 30,
   "metadata": {},
   "outputs": [
    {
     "data": {
      "text/html": [
       "<div>\n",
       "<style scoped>\n",
       "    .dataframe tbody tr th:only-of-type {\n",
       "        vertical-align: middle;\n",
       "    }\n",
       "\n",
       "    .dataframe tbody tr th {\n",
       "        vertical-align: top;\n",
       "    }\n",
       "\n",
       "    .dataframe thead th {\n",
       "        text-align: right;\n",
       "    }\n",
       "</style>\n",
       "<table border=\"1\" class=\"dataframe\">\n",
       "  <thead>\n",
       "    <tr style=\"text-align: right;\">\n",
       "      <th></th>\n",
       "      <th>id</th>\n",
       "      <th>status_group</th>\n",
       "      <th>amount_tsh</th>\n",
       "      <th>date_recorded</th>\n",
       "      <th>funder</th>\n",
       "      <th>gps_height</th>\n",
       "      <th>installer</th>\n",
       "      <th>longitude</th>\n",
       "      <th>latitude</th>\n",
       "      <th>wpt_name</th>\n",
       "      <th>...</th>\n",
       "      <th>quantity_group</th>\n",
       "      <th>source</th>\n",
       "      <th>source_type</th>\n",
       "      <th>source_class</th>\n",
       "      <th>waterpoint_type</th>\n",
       "      <th>waterpoint_type_group</th>\n",
       "      <th>target</th>\n",
       "      <th>functional</th>\n",
       "      <th>needs repair</th>\n",
       "      <th>age_of_well</th>\n",
       "    </tr>\n",
       "  </thead>\n",
       "  <tbody>\n",
       "    <tr>\n",
       "      <th>0</th>\n",
       "      <td>69572</td>\n",
       "      <td>functional</td>\n",
       "      <td>6000.0</td>\n",
       "      <td>2011-03-14</td>\n",
       "      <td>Roman</td>\n",
       "      <td>1390</td>\n",
       "      <td>Roman</td>\n",
       "      <td>34.938093</td>\n",
       "      <td>-9.856322</td>\n",
       "      <td>none</td>\n",
       "      <td>...</td>\n",
       "      <td>enough</td>\n",
       "      <td>spring</td>\n",
       "      <td>spring</td>\n",
       "      <td>groundwater</td>\n",
       "      <td>communal standpipe</td>\n",
       "      <td>communal standpipe</td>\n",
       "      <td>0</td>\n",
       "      <td>1</td>\n",
       "      <td>0</td>\n",
       "      <td>25</td>\n",
       "    </tr>\n",
       "    <tr>\n",
       "      <th>1</th>\n",
       "      <td>8776</td>\n",
       "      <td>functional</td>\n",
       "      <td>0.0</td>\n",
       "      <td>2013-03-06</td>\n",
       "      <td>Grumeti</td>\n",
       "      <td>1399</td>\n",
       "      <td>GRUMETI</td>\n",
       "      <td>34.698766</td>\n",
       "      <td>-2.147466</td>\n",
       "      <td>Zahanati</td>\n",
       "      <td>...</td>\n",
       "      <td>insufficient</td>\n",
       "      <td>rainwater harvesting</td>\n",
       "      <td>rainwater harvesting</td>\n",
       "      <td>surface</td>\n",
       "      <td>communal standpipe</td>\n",
       "      <td>communal standpipe</td>\n",
       "      <td>0</td>\n",
       "      <td>1</td>\n",
       "      <td>0</td>\n",
       "      <td>14</td>\n",
       "    </tr>\n",
       "    <tr>\n",
       "      <th>2</th>\n",
       "      <td>34310</td>\n",
       "      <td>functional</td>\n",
       "      <td>25.0</td>\n",
       "      <td>2013-02-25</td>\n",
       "      <td>Lottery Club</td>\n",
       "      <td>686</td>\n",
       "      <td>World vision</td>\n",
       "      <td>37.460664</td>\n",
       "      <td>-3.821329</td>\n",
       "      <td>Kwa Mahundi</td>\n",
       "      <td>...</td>\n",
       "      <td>enough</td>\n",
       "      <td>dam</td>\n",
       "      <td>dam</td>\n",
       "      <td>surface</td>\n",
       "      <td>communal standpipe multiple</td>\n",
       "      <td>communal standpipe</td>\n",
       "      <td>0</td>\n",
       "      <td>1</td>\n",
       "      <td>0</td>\n",
       "      <td>15</td>\n",
       "    </tr>\n",
       "    <tr>\n",
       "      <th>3</th>\n",
       "      <td>67743</td>\n",
       "      <td>needs repair</td>\n",
       "      <td>0.0</td>\n",
       "      <td>2013-01-28</td>\n",
       "      <td>Unicef</td>\n",
       "      <td>263</td>\n",
       "      <td>UNICEF</td>\n",
       "      <td>38.486161</td>\n",
       "      <td>-11.155298</td>\n",
       "      <td>Zahanati Ya Nanyumbu</td>\n",
       "      <td>...</td>\n",
       "      <td>dry</td>\n",
       "      <td>machine dbh</td>\n",
       "      <td>borehole</td>\n",
       "      <td>groundwater</td>\n",
       "      <td>communal standpipe multiple</td>\n",
       "      <td>communal standpipe</td>\n",
       "      <td>1</td>\n",
       "      <td>0</td>\n",
       "      <td>1</td>\n",
       "      <td>38</td>\n",
       "    </tr>\n",
       "    <tr>\n",
       "      <th>10</th>\n",
       "      <td>49056</td>\n",
       "      <td>functional</td>\n",
       "      <td>0.0</td>\n",
       "      <td>2011-02-20</td>\n",
       "      <td>Private</td>\n",
       "      <td>62</td>\n",
       "      <td>Private</td>\n",
       "      <td>39.209518</td>\n",
       "      <td>-7.034139</td>\n",
       "      <td>Mzee Hokororo</td>\n",
       "      <td>...</td>\n",
       "      <td>enough</td>\n",
       "      <td>machine dbh</td>\n",
       "      <td>borehole</td>\n",
       "      <td>groundwater</td>\n",
       "      <td>other</td>\n",
       "      <td>other</td>\n",
       "      <td>0</td>\n",
       "      <td>1</td>\n",
       "      <td>0</td>\n",
       "      <td>13</td>\n",
       "    </tr>\n",
       "  </tbody>\n",
       "</table>\n",
       "<p>5 rows × 45 columns</p>\n",
       "</div>"
      ],
      "text/plain": [
       "       id  status_group  amount_tsh date_recorded        funder  gps_height  \\\n",
       "0   69572    functional      6000.0    2011-03-14         Roman        1390   \n",
       "1    8776    functional         0.0    2013-03-06       Grumeti        1399   \n",
       "2   34310    functional        25.0    2013-02-25  Lottery Club         686   \n",
       "3   67743  needs repair         0.0    2013-01-28        Unicef         263   \n",
       "10  49056    functional         0.0    2011-02-20       Private          62   \n",
       "\n",
       "       installer  longitude   latitude              wpt_name  ...  \\\n",
       "0          Roman  34.938093  -9.856322                  none  ...   \n",
       "1        GRUMETI  34.698766  -2.147466              Zahanati  ...   \n",
       "2   World vision  37.460664  -3.821329           Kwa Mahundi  ...   \n",
       "3         UNICEF  38.486161 -11.155298  Zahanati Ya Nanyumbu  ...   \n",
       "10       Private  39.209518  -7.034139         Mzee Hokororo  ...   \n",
       "\n",
       "    quantity_group                source           source_type source_class  \\\n",
       "0           enough                spring                spring  groundwater   \n",
       "1     insufficient  rainwater harvesting  rainwater harvesting      surface   \n",
       "2           enough                   dam                   dam      surface   \n",
       "3              dry           machine dbh              borehole  groundwater   \n",
       "10          enough           machine dbh              borehole  groundwater   \n",
       "\n",
       "                waterpoint_type  waterpoint_type_group target functional  \\\n",
       "0            communal standpipe     communal standpipe      0          1   \n",
       "1            communal standpipe     communal standpipe      0          1   \n",
       "2   communal standpipe multiple     communal standpipe      0          1   \n",
       "3   communal standpipe multiple     communal standpipe      1          0   \n",
       "10                        other                  other      0          1   \n",
       "\n",
       "    needs repair age_of_well  \n",
       "0              0          25  \n",
       "1              0          14  \n",
       "2              0          15  \n",
       "3              1          38  \n",
       "10             0          13  \n",
       "\n",
       "[5 rows x 45 columns]"
      ]
     },
     "execution_count": 30,
     "metadata": {},
     "output_type": "execute_result"
    }
   ],
   "source": [
    "# Filtering the DataFrame 'data' to include only rows where 'construction_year', 'population', and 'gps_height' columns have values greater than 0\n",
    "data = data[(data['construction_year'] > 0) & (data['population'] > 0) & (data['gps_height'] > 0)]\n",
    "data.head()"
   ]
  },
  {
   "cell_type": "code",
   "execution_count": 31,
   "metadata": {},
   "outputs": [
    {
     "data": {
      "image/png": "[encoded data removed]",
      "text/plain": [
       "<Figure size 432x288 with 1 Axes>"
      ]
     },
     "metadata": {
      "needs_background": "light"
     },
     "output_type": "display_data"
    }
   ],
   "source": [
    "sns.boxplot(x='status_group',y='age_of_well', data=data, showfliers=False)\n",
    "plt.xlabel('Functionality of Well', fontsize=12, fontweight='bold');\n",
    "plt.ylabel('Age of Well', fontsize=12, fontweight='bold');\n",
    "plt.title('Age of well vs Functionality', fontsize=16, fontweight='bold');"
   ]
  },
  {
   "cell_type": "markdown",
   "metadata": {},
   "source": [
    "It is clear that the newer the well the more functional and the older the well the more repairs it needs"
   ]
  },
  {
   "cell_type": "code",
   "execution_count": 32,
   "metadata": {},
   "outputs": [],
   "source": [
    "data= data.drop_duplicates()"
   ]
  },
  {
   "cell_type": "code",
   "execution_count": 33,
   "metadata": {},
   "outputs": [],
   "source": [
    "to_drop = ['wpt_name','id','date_recorded','recorded_by','region_code',\n",
    "           'lga','scheme_name','funder','subvillage','latitude',\n",
    "           'longitude','extraction_type_class','extraction_type',\n",
    "           'payment_type','quantity_group','source_type','waterpoint_type_group',\n",
    "           'district_code','amount_tsh','num_private','construction_year',\n",
    "           'status_group','population','functional','needs repair','management'\n",
    "          ]\n"
   ]
  },
  {
   "cell_type": "code",
   "execution_count": 34,
   "metadata": {},
   "outputs": [
    {
     "name": "stdout",
     "output_type": "stream",
     "text": [
      "<class 'pandas.core.frame.DataFrame'>\n",
      "Int64Index: 29361 entries, 0 to 59399\n",
      "Data columns (total 19 columns):\n",
      " #   Column                 Non-Null Count  Dtype \n",
      "---  ------                 --------------  ----- \n",
      " 0   gps_height             29361 non-null  int64 \n",
      " 1   installer              29361 non-null  object\n",
      " 2   basin                  29361 non-null  object\n",
      " 3   region                 29361 non-null  object\n",
      " 4   ward                   29361 non-null  object\n",
      " 5   public_meeting         29361 non-null  object\n",
      " 6   scheme_management      29361 non-null  object\n",
      " 7   permit                 29361 non-null  object\n",
      " 8   extraction_type_group  29361 non-null  object\n",
      " 9   management_group       29361 non-null  object\n",
      " 10  payment                29361 non-null  object\n",
      " 11  water_quality          29361 non-null  object\n",
      " 12  quality_group          29361 non-null  object\n",
      " 13  quantity               29361 non-null  object\n",
      " 14  source                 29361 non-null  object\n",
      " 15  source_class           29361 non-null  object\n",
      " 16  waterpoint_type        29361 non-null  object\n",
      " 17  target                 29361 non-null  int8  \n",
      " 18  age_of_well            29361 non-null  int64 \n",
      "dtypes: int64(2), int8(1), object(16)\n",
      "memory usage: 4.3+ MB\n"
     ]
    }
   ],
   "source": [
    "data = data.drop(to_drop, axis=1)\n",
    "data = data.dropna()\n",
    "data.info()"
   ]
  },
  {
   "cell_type": "markdown",
   "metadata": {},
   "source": [
    "# Modeling"
   ]
  },
  {
   "cell_type": "code",
   "execution_count": 35,
   "metadata": {},
   "outputs": [],
   "source": [
    "X = data.drop(['target'], axis=1)  # Assigning features to X by dropping the 'target' column\n",
    "y = data['target']  # Assigning the 'target' variable to y"
   ]
  },
  {
   "cell_type": "code",
   "execution_count": 36,
   "metadata": {},
   "outputs": [
    {
     "name": "stdout",
     "output_type": "stream",
     "text": [
      "['gps_height', 'age_of_well'] ['installer', 'basin', 'region', 'ward', 'public_meeting', 'scheme_management', 'permit', 'extraction_type_group', 'management_group', 'payment', 'water_quality', 'quality_group', 'quantity', 'source', 'source_class', 'waterpoint_type']\n"
     ]
    }
   ],
   "source": [
    "# Extracting numerical columns from the feature dataset 'X' and converting them to a list\n",
    "numerical_cols = list(X.select_dtypes(include=np.number).columns)\n",
    "\n",
    "# Extracting categorical columns from the feature dataset 'X' and converting them to a list\n",
    "categorical_cols = list(X.select_dtypes(exclude=np.number).columns)\n",
    "print(numerical_cols, categorical_cols)\n"
   ]
  },
  {
   "cell_type": "markdown",
   "metadata": {},
   "source": [
    "# Preporcessing of data"
   ]
  },
  {
   "cell_type": "code",
   "execution_count": 37,
   "metadata": {},
   "outputs": [],
   "source": [
    "from sklearn.compose import ColumnTransformer\n",
    "from sklearn.pipeline import Pipeline\n",
    "from sklearn.impute import SimpleImputer\n",
    "from sklearn.preprocessing import OneHotEncoder, StandardScaler\n",
    "\n",
    "# Preprocessing for numerical data\n",
    "numerical_transformer = Pipeline(steps=[\n",
    "    ('scale', StandardScaler())\n",
    "])\n",
    "\n",
    "# Preprocessing for categorical data\n",
    "categorical_transformer = Pipeline(steps=[\n",
    "    ('imputer', SimpleImputer(strategy='most_frequent')),\n",
    "    ('onehot', OneHotEncoder(handle_unknown='ignore'))\n",
    "])\n",
    "\n",
    "# Bundle preprocessing for numerical and categorical data\n",
    "preprocessor = ColumnTransformer(\n",
    "    transformers=[\n",
    "        ('num', numerical_transformer, numerical_cols),\n",
    "        ('cat', categorical_transformer, categorical_cols)\n",
    "    ])\n"
   ]
  },
  {
   "cell_type": "code",
   "execution_count": 38,
   "metadata": {},
   "outputs": [],
   "source": [
    "from sklearn.metrics import mean_absolute_error\n",
    "from sklearn.model_selection import GridSearchCV\n",
    "from imblearn.over_sampling import SMOTE\n",
    "from imblearn.under_sampling import RandomUnderSampler\n",
    "from imblearn.pipeline import Pipeline\n",
    "from sklearn.decomposition import TruncatedSVD\n",
    "import xgboost as xgboost\n",
    "\n",
    "def fit_predict(model, X_train, X_test, y_train, y_test):\n",
    "    '''fit pipeline using given model, and return predictions'''\n",
    "    \n",
    "    param_grid = model['params']\n",
    "    model = model['model']\n",
    "        \n",
    "    \n",
    "    my_pipeline = Pipeline(steps=[('preprocessor', preprocessor),\n",
    "                                  ('model', model)\n",
    "                                 ])\n",
    "\n",
    "    search = GridSearchCV(estimator=my_pipeline,\n",
    "             param_grid=param_grid, n_jobs=-1, verbose=2, cv=10)\n",
    "    \n",
    "    search.fit(X_train, y_train)\n",
    "    \n",
    "    best_estimator = search.best_estimator_._final_estimator\n",
    "    \n",
    "    print(\"Best parameter (CV score=%0.3f):\" % search.best_score_)\n",
    "    print(search.best_params_)\n",
    "\n",
    "    # Preprocessing of validation data, get predictions\n",
    "    test_preds = search.predict(X_test)\n",
    "    train_preds = search.predict(X_train)\n",
    "    \n",
    "    return test_preds, train_preds, search"
   ]
  },
  {
   "cell_type": "code",
   "execution_count": 39,
   "metadata": {},
   "outputs": [],
   "source": [
    "from sklearn.metrics import accuracy_score\n",
    "from sklearn.metrics import classification_report\n",
    "from sklearn.metrics import confusion_matrix\n",
    "import itertools\n",
    "import matplotlib.pyplot as plt\n",
    "%matplotlib inline\n",
    "\n",
    "def plot_confusion_matrix(y_true, y_preds):\n",
    "    # Print confusion matrix\n",
    "    cnf_matrix = confusion_matrix(y_true, y_preds)\n",
    "    # Create the basic matrix\n",
    "    plt.imshow(cnf_matrix,  cmap=plt.cm.Blues)\n",
    "    # Add title and axis labels\n",
    "    plt.title('Confusion Matrix')\n",
    "    plt.ylabel('True label')\n",
    "    plt.xlabel('Predicted label')\n",
    "    # Add appropriate axis scales\n",
    "    class_names = set(y) # Get class labels to add to matrix\n",
    "    tick_marks = np.arange(len(class_names))\n",
    "    plt.xticks(tick_marks, class_names, rotation=0)\n",
    "    plt.yticks(tick_marks, class_names)\n",
    "    # Add labels to each cell\n",
    "    thresh = cnf_matrix.max() / 2. # Used for text coloring below\n",
    "    # Here we iterate through the confusion matrix and append labels to our visualization\n",
    "    for i, j in itertools.product(range(cnf_matrix.shape[0]), range(cnf_matrix.shape[1])):\n",
    "            plt.text(j, i, cnf_matrix[i, j],\n",
    "                     horizontalalignment='center',\n",
    "                     color='white' if cnf_matrix[i, j] > thresh else 'black')\n",
    "    # Add a legend\n",
    "    plt.colorbar();\n",
    "    plt.show();\n",
    "\n",
    "def metrics(model_name, y_train, y_test, y_train_pred, y_test_pred):\n",
    "    '''Print out the evaluation metrics for a given models predictions'''\n",
    "    print(f'Model: {model_name}', )\n",
    "    print('-'*60)\n",
    "    plot_confusion_matrix(y_test,y_test_pred)\n",
    "    print(f'test accuracy: {accuracy_score(y_test, y_test_pred)}')\n",
    "    print(f'train accuracy: {accuracy_score(y_train, y_train_pred)}')\n",
    "    print('-'*60)\n",
    "    print('\\ntest report:\\n' + classification_report(y_test, y_test_pred))\n",
    "    print('~'*60)\n",
    "    print('\\ntrain report:\\n' + classification_report(y_train, y_train_pred))    \n",
    "    print('-'*60)"
   ]
  },
  {
   "cell_type": "code",
   "execution_count": 40,
   "metadata": {},
   "outputs": [],
   "source": [
    "def roc(X_test, y_test, pred_y, model):\n",
    "    # Extracting the name of the model from the pipeline\n",
    "    name = str(model.best_estimator_.named_steps[\"model\"])[:str(model.best_estimator_.named_steps[\"model\"]).index('(')]\n",
    "    \n",
    "    # Predicting probabilities for positive class\n",
    "    y_pred_proba = model.predict_proba(X_test)[:,1]\n",
    "    \n",
    "    # Calculating true positive rate (TPR) and false positive rate (FPR)\n",
    "    fpr, tpr, threshold = roc_curve(y_test, y_pred_proba)\n",
    "    \n",
    "    # Plotting ROC curve\n",
    "    plt.plot(fpr, tpr, label=model)\n",
    "    plt.xlabel('False Positive Rate')\n",
    "    plt.ylabel('True Positive Rate')\n",
    "    plt.title(f'ROC curve for {name}')\n",
    "    plt.show()\n"
   ]
  },
  {
   "cell_type": "code",
   "execution_count": 41,
   "metadata": {},
   "outputs": [],
   "source": [
    "# Calculate the smallest number of samples among the two classes\n",
    "smallest_num = data['target'].value_counts().sort_values().values[0]\n",
    "\n",
    "# Randomly sample the subset of data where the target label is 0 to match the smallest number of samples\n",
    "target_0 = data[data['target'] == 0].sample(smallest_num)\n",
    "\n",
    "# Randomly sample the subset of data where the target label is 1 to match the smallest number of samples\n",
    "target_1 = data[data['target'] == 1].sample(smallest_num)\n",
    "\n",
    "# Concatenate the sampled subsets for both target labels to create a balanced dataset\n",
    "sampled_df = pd.concat([target_0, target_1])"
   ]
  },
  {
   "cell_type": "code",
   "execution_count": 42,
   "metadata": {},
   "outputs": [
    {
     "data": {
      "text/plain": [
       "1    12664\n",
       "0    12664\n",
       "Name: target, dtype: int64"
      ]
     },
     "execution_count": 42,
     "metadata": {},
     "output_type": "execute_result"
    }
   ],
   "source": [
    "# Display the count of each class (0 and 1) in the 'target' column of the 'sampled_df' DataFrame\n",
    "sampled_df['target'].value_counts()\n"
   ]
  },
  {
   "cell_type": "code",
   "execution_count": 43,
   "metadata": {},
   "outputs": [],
   "source": [
    "# Separate the features and the target variable from the 'sampled_df' DataFrame\n",
    "X_sampled_df = sampled_df.drop('target', axis=1)\n",
    "y_sampled_df = sampled_df['target']"
   ]
  },
  {
   "cell_type": "code",
   "execution_count": 44,
   "metadata": {},
   "outputs": [
    {
     "data": {
      "text/html": [
       "<div>\n",
       "<style scoped>\n",
       "    .dataframe tbody tr th:only-of-type {\n",
       "        vertical-align: middle;\n",
       "    }\n",
       "\n",
       "    .dataframe tbody tr th {\n",
       "        vertical-align: top;\n",
       "    }\n",
       "\n",
       "    .dataframe thead th {\n",
       "        text-align: right;\n",
       "    }\n",
       "</style>\n",
       "<table border=\"1\" class=\"dataframe\">\n",
       "  <thead>\n",
       "    <tr style=\"text-align: right;\">\n",
       "      <th></th>\n",
       "      <th>gps_height</th>\n",
       "      <th>installer</th>\n",
       "      <th>basin</th>\n",
       "      <th>region</th>\n",
       "      <th>ward</th>\n",
       "      <th>public_meeting</th>\n",
       "      <th>scheme_management</th>\n",
       "      <th>permit</th>\n",
       "      <th>extraction_type_group</th>\n",
       "      <th>management_group</th>\n",
       "      <th>payment</th>\n",
       "      <th>water_quality</th>\n",
       "      <th>quality_group</th>\n",
       "      <th>quantity</th>\n",
       "      <th>source</th>\n",
       "      <th>source_class</th>\n",
       "      <th>waterpoint_type</th>\n",
       "      <th>age_of_well</th>\n",
       "    </tr>\n",
       "  </thead>\n",
       "  <tbody>\n",
       "    <tr>\n",
       "      <th>32058</th>\n",
       "      <td>907</td>\n",
       "      <td>DWE</td>\n",
       "      <td>Ruvuma / Southern Coast</td>\n",
       "      <td>Ruvuma</td>\n",
       "      <td>Magagura</td>\n",
       "      <td>True</td>\n",
       "      <td>VWC</td>\n",
       "      <td>True</td>\n",
       "      <td>gravity</td>\n",
       "      <td>user-group</td>\n",
       "      <td>pay annually</td>\n",
       "      <td>soft</td>\n",
       "      <td>good</td>\n",
       "      <td>enough</td>\n",
       "      <td>river</td>\n",
       "      <td>surface</td>\n",
       "      <td>communal standpipe multiple</td>\n",
       "      <td>38</td>\n",
       "    </tr>\n",
       "    <tr>\n",
       "      <th>45897</th>\n",
       "      <td>1156</td>\n",
       "      <td>Idara ya maji</td>\n",
       "      <td>Rufiji</td>\n",
       "      <td>Singida</td>\n",
       "      <td>Nkoko</td>\n",
       "      <td>True</td>\n",
       "      <td>VWC</td>\n",
       "      <td>False</td>\n",
       "      <td>mono</td>\n",
       "      <td>user-group</td>\n",
       "      <td>pay per bucket</td>\n",
       "      <td>soft</td>\n",
       "      <td>good</td>\n",
       "      <td>enough</td>\n",
       "      <td>machine dbh</td>\n",
       "      <td>groundwater</td>\n",
       "      <td>communal standpipe multiple</td>\n",
       "      <td>43</td>\n",
       "    </tr>\n",
       "    <tr>\n",
       "      <th>7113</th>\n",
       "      <td>1063</td>\n",
       "      <td>DWE</td>\n",
       "      <td>Pangani</td>\n",
       "      <td>Arusha</td>\n",
       "      <td>Mlangarini</td>\n",
       "      <td>True</td>\n",
       "      <td>VWC</td>\n",
       "      <td>True</td>\n",
       "      <td>gravity</td>\n",
       "      <td>user-group</td>\n",
       "      <td>never pay</td>\n",
       "      <td>soft</td>\n",
       "      <td>good</td>\n",
       "      <td>enough</td>\n",
       "      <td>spring</td>\n",
       "      <td>groundwater</td>\n",
       "      <td>other</td>\n",
       "      <td>36</td>\n",
       "    </tr>\n",
       "    <tr>\n",
       "      <th>18371</th>\n",
       "      <td>1112</td>\n",
       "      <td>wasab</td>\n",
       "      <td>Lake Nyasa</td>\n",
       "      <td>Iringa</td>\n",
       "      <td>Mavanga</td>\n",
       "      <td>True</td>\n",
       "      <td>VWC</td>\n",
       "      <td>False</td>\n",
       "      <td>gravity</td>\n",
       "      <td>user-group</td>\n",
       "      <td>pay monthly</td>\n",
       "      <td>soft</td>\n",
       "      <td>good</td>\n",
       "      <td>enough</td>\n",
       "      <td>spring</td>\n",
       "      <td>groundwater</td>\n",
       "      <td>communal standpipe</td>\n",
       "      <td>14</td>\n",
       "    </tr>\n",
       "    <tr>\n",
       "      <th>41950</th>\n",
       "      <td>410</td>\n",
       "      <td>Lga</td>\n",
       "      <td>Ruvuma / Southern Coast</td>\n",
       "      <td>Mtwara</td>\n",
       "      <td>Luchingu</td>\n",
       "      <td>True</td>\n",
       "      <td>VWC</td>\n",
       "      <td>False</td>\n",
       "      <td>nira/tanira</td>\n",
       "      <td>user-group</td>\n",
       "      <td>never pay</td>\n",
       "      <td>soft</td>\n",
       "      <td>good</td>\n",
       "      <td>enough</td>\n",
       "      <td>shallow well</td>\n",
       "      <td>groundwater</td>\n",
       "      <td>hand pump</td>\n",
       "      <td>52</td>\n",
       "    </tr>\n",
       "  </tbody>\n",
       "</table>\n",
       "</div>"
      ],
      "text/plain": [
       "       gps_height      installer                    basin   region  \\\n",
       "32058         907            DWE  Ruvuma / Southern Coast   Ruvuma   \n",
       "45897        1156  Idara ya maji                   Rufiji  Singida   \n",
       "7113         1063            DWE                  Pangani   Arusha   \n",
       "18371        1112          wasab               Lake Nyasa   Iringa   \n",
       "41950         410            Lga  Ruvuma / Southern Coast   Mtwara   \n",
       "\n",
       "             ward public_meeting scheme_management permit  \\\n",
       "32058    Magagura           True               VWC   True   \n",
       "45897       Nkoko           True               VWC  False   \n",
       "7113   Mlangarini           True               VWC   True   \n",
       "18371     Mavanga           True               VWC  False   \n",
       "41950    Luchingu           True               VWC  False   \n",
       "\n",
       "      extraction_type_group management_group         payment water_quality  \\\n",
       "32058               gravity       user-group    pay annually          soft   \n",
       "45897                  mono       user-group  pay per bucket          soft   \n",
       "7113                gravity       user-group       never pay          soft   \n",
       "18371               gravity       user-group     pay monthly          soft   \n",
       "41950           nira/tanira       user-group       never pay          soft   \n",
       "\n",
       "      quality_group quantity        source source_class  \\\n",
       "32058          good   enough         river      surface   \n",
       "45897          good   enough   machine dbh  groundwater   \n",
       "7113           good   enough        spring  groundwater   \n",
       "18371          good   enough        spring  groundwater   \n",
       "41950          good   enough  shallow well  groundwater   \n",
       "\n",
       "                   waterpoint_type  age_of_well  \n",
       "32058  communal standpipe multiple           38  \n",
       "45897  communal standpipe multiple           43  \n",
       "7113                         other           36  \n",
       "18371           communal standpipe           14  \n",
       "41950                    hand pump           52  "
      ]
     },
     "execution_count": 44,
     "metadata": {},
     "output_type": "execute_result"
    }
   ],
   "source": [
    "from sklearn.model_selection import train_test_split\n",
    "\n",
    "X_train, X_test, y_train, y_test = train_test_split(X_sampled_df, y_sampled_df, test_size=.3, random_state=42)\n",
    "\n",
    "X_sampled_df.head()"
   ]
  },
  {
   "cell_type": "code",
   "execution_count": 45,
   "metadata": {},
   "outputs": [
    {
     "data": {
      "text/plain": [
       "25328"
      ]
     },
     "execution_count": 45,
     "metadata": {},
     "output_type": "execute_result"
    }
   ],
   "source": [
    "# no of raws \n",
    "X_sampled_df.shape[0]"
   ]
  },
  {
   "cell_type": "markdown",
   "metadata": {},
   "source": [
    "# Classification algorithms"
   ]
  },
  {
   "cell_type": "markdown",
   "metadata": {},
   "source": [
    "# 1) Logistic regression"
   ]
  },
  {
   "cell_type": "code",
   "execution_count": 46,
   "metadata": {},
   "outputs": [
    {
     "name": "stdout",
     "output_type": "stream",
     "text": [
      "Accuracy: 0.7906303460981708\n",
      "ROC AUC: 0.7903489848638829\n",
      "Best hyperparameters: {'model__C': 1}\n"
     ]
    },
    {
     "name": "stderr",
     "output_type": "stream",
     "text": [
      "/Users/myraminayokadenge/anaconda3/envs/learn-env/lib/python3.8/site-packages/sklearn/linear_model/_logistic.py:762: ConvergenceWarning: lbfgs failed to converge (status=1):\n",
      "STOP: TOTAL NO. of ITERATIONS REACHED LIMIT.\n",
      "\n",
      "Increase the number of iterations (max_iter) or scale the data as shown in:\n",
      "    https://scikit-learn.org/stable/modules/preprocessing.html\n",
      "Please also refer to the documentation for alternative solver options:\n",
      "    https://scikit-learn.org/stable/modules/linear_model.html#logistic-regression\n",
      "  n_iter_i = _check_optimize_result(\n"
     ]
    }
   ],
   "source": [
    "from sklearn.linear_model import LogisticRegression\n",
    "from sklearn.pipeline import Pipeline\n",
    "from sklearn.model_selection import GridSearchCV\n",
    "from sklearn.metrics import accuracy_score, roc_auc_score\n",
    "\n",
    "# Define logistic regression model\n",
    "logistic_regression = LogisticRegression(random_state=42)\n",
    "\n",
    "# Define hyperparameters to tune\n",
    "param_grid = {\n",
    "    'model__C': [0.001, 0.01, 0.1, 1, 10, 100]  # regularization parameter\n",
    "}\n",
    "\n",
    "# Create a pipeline\n",
    "pipeline = Pipeline(steps=[\n",
    "    ('preprocessor', preprocessor),  # assuming you have defined preprocessor\n",
    "    ('model', logistic_regression)\n",
    "])\n",
    "\n",
    "# Grid search for hyperparameter tuning\n",
    "grid_search = GridSearchCV(estimator=pipeline,\n",
    "                           param_grid=param_grid,\n",
    "                           cv=5,  # cross-validation folds\n",
    "                           scoring='accuracy',  # evaluation metric\n",
    "                           n_jobs=-1  # use all available CPU cores\n",
    "                          )\n",
    "\n",
    "# Fit the grid search to the training data\n",
    "grid_search.fit(X_train, y_train)\n",
    "\n",
    "# Make predictions on the test data\n",
    "y_pred = grid_search.predict(X_test)\n",
    "\n",
    "# Evaluate the model\n",
    "accuracy = accuracy_score(y_test, y_pred)\n",
    "roc_auc = roc_auc_score(y_test, y_pred)\n",
    "\n",
    "print(f\"Accuracy: {accuracy}\")\n",
    "print(f\"ROC AUC: {roc_auc}\")\n",
    "\n",
    "# Best hyperparameters\n",
    "print(\"Best hyperparameters:\", grid_search.best_params_)\n"
   ]
  },
  {
   "cell_type": "code",
   "execution_count": 47,
   "metadata": {},
   "outputs": [
    {
     "name": "stdout",
     "output_type": "stream",
     "text": [
      "Confusion Matrix:\n",
      "[[3149  685]\n",
      " [ 906 2859]]\n"
     ]
    }
   ],
   "source": [
    "from sklearn.metrics import confusion_matrix\n",
    "\n",
    "# Calculate confusion matrix\n",
    "conf_matrix = confusion_matrix(y_test, y_pred)\n",
    "\n",
    "# Print confusion matrix\n",
    "print(\"Confusion Matrix:\")\n",
    "print(conf_matrix)"
   ]
  },
  {
   "cell_type": "code",
   "execution_count": 48,
   "metadata": {},
   "outputs": [
    {
     "data": {
      "image/png": "[encoded data removed]",
      "text/plain": [
       "<Figure size 576x432 with 1 Axes>"
      ]
     },
     "metadata": {
      "needs_background": "light"
     },
     "output_type": "display_data"
    }
   ],
   "source": [
    "import matplotlib.pyplot as plt\n",
    "import seaborn as sns\n",
    "\n",
    "#we can now try plot the confusion matrix\n",
    "plt.figure(figsize=(8, 6))\n",
    "sns.heatmap(conf_matrix, annot=True, cmap='Blues', fmt='d', cbar=False)\n",
    "plt.xlabel('Predicted labels')\n",
    "plt.ylabel('True labels')\n",
    "plt.title('Confusion Matrix')\n",
    "plt.show();"
   ]
  },
  {
   "cell_type": "markdown",
   "metadata": {},
   "source": [
    "# 2)  XG Boost"
   ]
  },
  {
   "cell_type": "code",
   "execution_count": 49,
   "metadata": {},
   "outputs": [],
   "source": [
    "# Importing the libraries\n",
    "import pandas as pd\n",
    "import numpy as np\n",
    "\n",
    "from scipy import stats\n",
    "import math\n",
    "\n",
    "#Visual/Graphs\n",
    "import matplotlib.pyplot as plt\n",
    "%matplotlib inline\n",
    "import seaborn as sns\n",
    "plt.style.use('seaborn')\n",
    "\n",
    "#Sklearn\n",
    "from sklearn.ensemble import RandomForestClassifier\n",
    "from sklearn.linear_model import LogisticRegression\n",
    "from sklearn.neighbors import KNeighborsClassifier as KNN\n",
    "from sklearn.preprocessing import LabelEncoder\n",
    "from sklearn.preprocessing import StandardScaler\n",
    "from sklearn.model_selection import train_test_split\n",
    "from sklearn.model_selection import cross_val_score\n",
    "from sklearn.model_selection import StratifiedShuffleSplit\n",
    "from sklearn.decomposition import PCA\n",
    "from sklearn.linear_model import LogisticRegression\n",
    "from sklearn.metrics import accuracy_score\n",
    "from sklearn import metrics\n",
    "from sklearn.metrics import roc_curve, auc\n",
    "from sklearn.model_selection import GridSearchCV\n",
    "from sklearn.model_selection import RandomizedSearchCV\n",
    "from sklearn.svm import SVC\n",
    "from sklearn.tree import DecisionTreeClassifier\n",
    "from sklearn.metrics import classification_report, accuracy_score, roc_auc_score\n",
    "\n",
    "from IPython.core.interactiveshell import InteractiveShell\n",
    "InteractiveShell.ast_node_interactivity = \"all\"\n",
    "\n",
    "#Import warnings\n",
    "import warnings\n",
    "warnings.filterwarnings(\"ignore\")\n",
    "\n",
    "import pandas.util.testing as tm"
   ]
  },
  {
   "cell_type": "code",
   "execution_count": 50,
   "metadata": {},
   "outputs": [],
   "source": [
    "# This function finds the top features of a model using eli5 library\n",
    "def top_feat(model_pipe):\n",
    "    '''This function is used to find the best features of our models\n",
    "    \n",
    "    Args:\n",
    "        model_pipe (GridSearchCV): model_pipe is a pipeline\n",
    "        \n",
    "    Returns:\n",
    "        the top features of the model\n",
    "    '''\n",
    "    \n",
    "    # Extracting the one-hot encoded column names\n",
    "    onehot_columns = list(model_pipe.best_estimator_.named_steps['preprocessor']\n",
    "                          .named_transformers_['cat']\n",
    "                          .named_steps['onehot']\n",
    "                          .get_feature_names(input_features=categorical_cols))\n",
    "    \n",
    "    # Combining numerical and one-hot encoded column names\n",
    "    numeric_features_list = list(numerical_cols)\n",
    "    numeric_features_list.extend(onehot_columns)\n",
    "    \n",
    "    # Returning the top features using eli5 library\n",
    "    return eli5.explain_weights(model_pipe.best_estimator_.named_steps['model'], top=20, feature_names=numeric_features_list)"
   ]
  },
  {
   "cell_type": "code",
   "execution_count": 51,
   "metadata": {},
   "outputs": [],
   "source": [
    "xgb_param = {\n",
    "    'model__eta': [.3, .2, .1, .05, .01, .005], #Learning rate\n",
    "    'model__max_depth': [10], #The maximum depth of a tree.Used to control over-fitting\n",
    "    'model__min_child_weight': [6], # minimum sum of weights of all observations required in a child\n",
    "    'model__subsample': [0.8]      # Subsample ratio of the training instances.\n",
    "}"
   ]
  },
  {
   "cell_type": "code",
   "execution_count": 52,
   "metadata": {},
   "outputs": [
    {
     "name": "stdout",
     "output_type": "stream",
     "text": [
      "Fitting 10 folds for each of 6 candidates, totalling 60 fits\n"
     ]
    },
    {
     "name": "stderr",
     "output_type": "stream",
     "text": [
      "[Parallel(n_jobs=-1)]: Using backend LokyBackend with 8 concurrent workers.\n",
      "[Parallel(n_jobs=-1)]: Done  25 tasks      | elapsed:   46.2s\n",
      "[Parallel(n_jobs=-1)]: Done  60 out of  60 | elapsed:  1.6min finished\n"
     ]
    },
    {
     "name": "stdout",
     "output_type": "stream",
     "text": [
      "Best parameter (CV score=0.796):\n",
      "{'model__eta': 0.1, 'model__max_depth': 10, 'model__min_child_weight': 6, 'model__subsample': 0.8}\n"
     ]
    }
   ],
   "source": [
    "# Importing XGBClassifier from xgboost library\n",
    "from xgboost import XGBClassifier\n",
    "\n",
    "# Defining the XGBClassifier model and its parameters\n",
    "xgb = { 'model': XGBClassifier(random_state=42), 'params': xgb_param }\n",
    "\n",
    "# Fitting and predicting using the XGBClassifier model\n",
    "xgb_test_preds, xgb_train_preds, xgb_pipeline = fit_predict(xgb, X_train, X_test, y_train, y_test)"
   ]
  },
  {
   "cell_type": "code",
   "execution_count": 53,
   "metadata": {},
   "outputs": [
    {
     "name": "stdout",
     "output_type": "stream",
     "text": [
      "XGBoost Accuracy: 0.7994472956968022\n",
      "XGBoost Precision: 0.8235633843488305\n",
      "XGBoost Recall: 0.7575033200531208\n",
      "XGBoost F1-score: 0.789153292750415\n"
     ]
    }
   ],
   "source": [
    "from sklearn.metrics import accuracy_score, precision_score, recall_score, f1_score\n",
    "\n",
    "# Calculate and print various metrics using the same data provided to the `metrics` function\n",
    "XGBoost_accuracy = accuracy_score(y_test, xgb_test_preds)\n",
    "XGBoost_precision = precision_score(y_test, xgb_test_preds)\n",
    "XGBoost_recall = recall_score(y_test, xgb_test_preds)\n",
    "XGBoost_f1 = f1_score(y_test, xgb_test_preds)\n",
    "\n",
    "# Printing the calculated metrics for XGBoost\n",
    "print(f\"XGBoost Accuracy: {XGBoost_accuracy}\")\n",
    "print(f\"XGBoost Precision: {XGBoost_precision}\")\n",
    "print(f\"XGBoost Recall: {XGBoost_recall}\")\n",
    "print(f\"XGBoost F1-score: {XGBoost_f1}\")\n",
    "\n"
   ]
  },
  {
   "cell_type": "code",
   "execution_count": 54,
   "metadata": {},
   "outputs": [
    {
     "data": {
      "image/png": "[encoded data removed]",
      "text/plain": [
       "<Figure size 576x396 with 1 Axes>"
      ]
     },
     "metadata": {},
     "output_type": "display_data"
    }
   ],
   "source": [
    "# Now we can Plot the ROC curve\n",
    "roc(X_test, y_test, xgb_test_preds, xgb_pipeline)"
   ]
  },
  {
   "cell_type": "code",
   "execution_count": 55,
   "metadata": {},
   "outputs": [
    {
     "data": {
      "image/png": "[encoded data removed]",
      "text/plain": [
       "<Figure size 576x396 with 2 Axes>"
      ]
     },
     "metadata": {},
     "output_type": "display_data"
    }
   ],
   "source": [
    "plot_confusion_matrix(y_test, xgb_test_preds);"
   ]
  },
  {
   "cell_type": "markdown",
   "metadata": {},
   "source": [
    "# 3) Support vector machine\n"
   ]
  },
  {
   "cell_type": "code",
   "execution_count": 56,
   "metadata": {},
   "outputs": [],
   "source": [
    "lsvc_param = {\n",
    "    'model__C': [1, 10], #the higher the C, the more penalty SVM was given when it misclassified\n",
    "    'model__max_iter': [10000], # maximum number of iterations to be run.\n",
    "    'model__dual':[False],  # dual=False when n_samples > n_features.\n",
    "    'model__penalty': ['l1','l2'],# Specifies the norm used in the penalization. The ‘l2’ penalty is the standard used in \n",
    "                                  # SVC. The ‘l1’ leads to coef_ vectors that are sparse.\n",
    "}\n"
   ]
  },
  {
   "cell_type": "code",
   "execution_count": 57,
   "metadata": {},
   "outputs": [
    {
     "name": "stdout",
     "output_type": "stream",
     "text": [
      "Fitting 10 folds for each of 4 candidates, totalling 40 fits\n"
     ]
    },
    {
     "name": "stderr",
     "output_type": "stream",
     "text": [
      "[Parallel(n_jobs=-1)]: Using backend LokyBackend with 8 concurrent workers.\n",
      "[Parallel(n_jobs=-1)]: Done  25 tasks      | elapsed:   44.4s\n",
      "[Parallel(n_jobs=-1)]: Done  40 out of  40 | elapsed:  1.1min finished\n"
     ]
    },
    {
     "name": "stdout",
     "output_type": "stream",
     "text": [
      "Best parameter (CV score=0.786):\n",
      "{'model__C': 1, 'model__dual': False, 'model__max_iter': 10000, 'model__penalty': 'l1'}\n"
     ]
    }
   ],
   "source": [
    "from sklearn.svm import LinearSVC\n",
    "\n",
    "lsvc = { 'model': LinearSVC(random_state=42), 'params': lsvc_param }\n",
    "\n",
    "lsvc_test_preds, lsvc_train_preds,lsvc_pipeline = fit_predict(lsvc, X_train, X_test, y_train, y_test)"
   ]
  },
  {
   "cell_type": "code",
   "execution_count": 59,
   "metadata": {},
   "outputs": [
    {
     "ename": "TypeError",
     "evalue": "'module' object is not callable",
     "output_type": "error",
     "traceback": [
      "\u001b[0;31m---------------------------------------------------------------------------\u001b[0m",
      "\u001b[0;31mTypeError\u001b[0m                                 Traceback (most recent call last)",
      "\u001b[0;32m<ipython-input-59-5860ec202f9b>\u001b[0m in \u001b[0;36m<module>\u001b[0;34m\u001b[0m\n\u001b[1;32m      1\u001b[0m \u001b[0;31m# Call the metrics function to evaluate the LinearSVC model\u001b[0m\u001b[0;34m\u001b[0m\u001b[0;34m\u001b[0m\u001b[0;34m\u001b[0m\u001b[0m\n\u001b[0;32m----> 2\u001b[0;31m \u001b[0mmetrics\u001b[0m\u001b[0;34m(\u001b[0m\u001b[0;34m'LinearSVC'\u001b[0m\u001b[0;34m,\u001b[0m \u001b[0my_train\u001b[0m\u001b[0;34m,\u001b[0m \u001b[0my_test\u001b[0m\u001b[0;34m,\u001b[0m \u001b[0mlsvc_train_preds\u001b[0m\u001b[0;34m,\u001b[0m \u001b[0mlsvc_test_preds\u001b[0m\u001b[0;34m)\u001b[0m\u001b[0;34m;\u001b[0m\u001b[0;34m\u001b[0m\u001b[0;34m\u001b[0m\u001b[0m\n\u001b[0m",
      "\u001b[0;31mTypeError\u001b[0m: 'module' object is not callable"
     ]
    }
   ],
   "source": [
    "# Call the metrics function to evaluate the LinearSVC model\n",
    "metrics('LinearSVC', y_train, y_test, lsvc_train_preds, lsvc_test_preds);"
   ]
  },
  {
   "cell_type": "markdown",
   "metadata": {},
   "source": [
    "# 3) Random forest classifier"
   ]
  },
  {
   "cell_type": "markdown",
   "metadata": {},
   "source": [
    "A random forest is also a machine learning technique that is used to solve classification problems. It utilizes ensemble learning,which is a technique that combines many classifiers to provide solution to complex problems."
   ]
  },
  {
   "cell_type": "code",
   "execution_count": 58,
   "metadata": {},
   "outputs": [
    {
     "name": "stdout",
     "output_type": "stream",
     "text": [
      "Fitting 10 folds for each of 4 candidates, totalling 40 fits\n"
     ]
    },
    {
     "name": "stderr",
     "output_type": "stream",
     "text": [
      "[Parallel(n_jobs=-1)]: Using backend LokyBackend with 8 concurrent workers.\n",
      "[Parallel(n_jobs=-1)]: Done  25 tasks      | elapsed:   45.3s\n",
      "[Parallel(n_jobs=-1)]: Done  40 out of  40 | elapsed:  1.1min finished\n"
     ]
    },
    {
     "name": "stdout",
     "output_type": "stream",
     "text": [
      "Best parameter (CV score=0.746):\n",
      "{'model__criterion': 'gini', 'model__max_depth': 10, 'model__min_samples_leaf': 5, 'model__min_samples_split': 10, 'model__n_estimators': 1000}\n"
     ]
    }
   ],
   "source": [
    "from sklearn.tree import DecisionTreeClassifier\n",
    "from sklearn.ensemble import BaggingClassifier, RandomForestClassifier\n",
    "\n",
    "forest_params = {'model__n_estimators' : [500,1000],  # number of decision trees to be created\n",
    "                 'model__criterion' : ['gini','entropy'], # function that is to be used for splitting\n",
    "                 'model__max_depth': [10],          # maximum depth of the trees\n",
    "                 'model__min_samples_split' : [10], # minimum number of samples required in a leaf node before a split is attempted\n",
    "                 'model__min_samples_leaf' : [5]} # minimum number of samples required to be at a leaf node. \n",
    "                                            # Smaller leaf size makes the model more prone to capturing noise in train data.\n",
    "rfc = { 'model': RandomForestClassifier(random_state=42), 'params': forest_params }\n",
    "\n",
    "rfc_test_preds, rfc_train_preds,rfc_pipeline = fit_predict(rfc, X_train, X_test, y_train, y_test)\n",
    "\n"
   ]
  },
  {
   "cell_type": "code",
   "execution_count": 60,
   "metadata": {},
   "outputs": [
    {
     "name": "stdout",
     "output_type": "stream",
     "text": [
      "Fitting 10 folds for each of 4 candidates, totalling 40 fits\n"
     ]
    },
    {
     "name": "stderr",
     "output_type": "stream",
     "text": [
      "[Parallel(n_jobs=-1)]: Using backend LokyBackend with 8 concurrent workers.\n",
      "[Parallel(n_jobs=-1)]: Done  25 tasks      | elapsed:   47.1s\n",
      "[Parallel(n_jobs=-1)]: Done  40 out of  40 | elapsed:  1.2min finished\n"
     ]
    },
    {
     "name": "stdout",
     "output_type": "stream",
     "text": [
      "Best parameter (CV score=0.746):\n",
      "{'model__criterion': 'gini', 'model__max_depth': 10, 'model__min_samples_leaf': 5, 'model__min_samples_split': 10, 'model__n_estimators': 1000}\n",
      "Random Forest Accuracy: 0.7453612317410185\n",
      "Random Forest Precision: 0.7551589514779699\n"
     ]
    }
   ],
   "source": [
    "from sklearn.metrics import accuracy_score, precision_score, recall_score, f1_score\n",
    "\n",
    "rfc_test_preds, rfc_train_preds, rfc_pipeline = fit_predict(rfc, X_train, X_test, y_train, y_test)\n",
    "\n",
    "random_forest_accuracy = accuracy_score(y_test, rfc_test_preds)\n",
    "random_forest_precision = precision_score(y_test, rfc_test_preds)\n",
    "# ... calculate other metrics\n",
    "\n",
    "print(f\"Random Forest Accuracy: {random_forest_accuracy}\")\n",
    "print(f\"Random Forest Precision: {random_forest_precision}\")\n",
    "# ... print other metric values"
   ]
  },
  {
   "cell_type": "code",
   "execution_count": 61,
   "metadata": {},
   "outputs": [
    {
     "name": "stdout",
     "output_type": "stream",
     "text": [
      "Accuracy: 0.7453612317410185\n",
      "Classification Report:\n",
      "              precision    recall  f1-score   support\n",
      "\n",
      "           0       0.74      0.77      0.75      3834\n",
      "           1       0.76      0.72      0.74      3765\n",
      "\n",
      "    accuracy                           0.75      7599\n",
      "   macro avg       0.75      0.75      0.75      7599\n",
      "weighted avg       0.75      0.75      0.75      7599\n",
      "\n"
     ]
    },
    {
     "data": {
      "image/png": "[encoded data removed]",
      "text/plain": [
       "<Figure size 576x432 with 1 Axes>"
      ]
     },
     "metadata": {},
     "output_type": "display_data"
    }
   ],
   "source": [
    "# Calculate accuracy\n",
    "accuracy = accuracy_score(y_test, rfc_test_preds)\n",
    "print(f'Accuracy: {accuracy}')\n",
    "\n",
    "# Generate and print classification report\n",
    "print('Classification Report:')\n",
    "print(classification_report(y_test, rfc_test_preds))\n",
    "\n",
    "# Generate confusion matrix\n",
    "cm = confusion_matrix(y_test, rfc_test_preds)\n",
    "\n",
    "# Plot confusion matrix\n",
    "plt.figure(figsize=(8, 6))\n",
    "sns.heatmap(cm, annot=True, fmt='d', cmap='Blues', cbar=False)\n",
    "plt.xlabel('Predicted')\n",
    "plt.ylabel('Actual')\n",
    "plt.title('Confusion Matrix')\n",
    "plt.show();"
   ]
  },
  {
   "cell_type": "code",
   "execution_count": 62,
   "metadata": {},
   "outputs": [
    {
     "data": {
      "image/png": "[encoded data removed]",
      "text/plain": [
       "<Figure size 576x432 with 1 Axes>"
      ]
     },
     "metadata": {},
     "output_type": "display_data"
    }
   ],
   "source": [
    "import matplotlib.pyplot as plt\n",
    "from sklearn.metrics import roc_curve\n",
    "\n",
    "def plot_roc_curves(models, X_test, y_test):\n",
    "    plt.figure(figsize=(8, 6))\n",
    "    for model_name, y_pred_proba in models.items():\n",
    "        # Calculating true positive rate (TPR) and false positive rate (FPR)\n",
    "        fpr, tpr, _ = roc_curve(y_test, y_pred_proba)\n",
    "        \n",
    "        # Plotting ROC curve for each model\n",
    "        plt.plot(fpr, tpr, label=model_name)\n",
    "\n",
    "    # Plotting the random guess line\n",
    "    plt.plot([0, 1], [0, 1], linestyle='--', color='grey', label='Random Guess')\n",
    "\n",
    "    plt.xlabel('False Positive Rate')\n",
    "    plt.ylabel('True Positive Rate')\n",
    "    plt.title('ROC Curves Comparison')\n",
    "    plt.legend()\n",
    "    plt.grid(True)\n",
    "    plt.show()\n",
    "\n",
    "# Define the models and their corresponding predicted probabilities\n",
    "models = {'XGBClassifier': xgb_test_preds,\n",
    "          'Random Forest': rfc_test_preds,\n",
    "          'Linear SVC': lsvc_test_preds}\n",
    "\n",
    "# Plot ROC curves for the models\n",
    "plot_roc_curves(models, X_test, y_test)"
   ]
  },
  {
   "cell_type": "code",
   "execution_count": null,
   "metadata": {},
   "outputs": [],
   "source": []
  }
 ],
 "metadata": {
  "kernelspec": {
   "display_name": "learn-env",
   "language": "python",
   "name": "python3"
  },
  "language_info": {
   "codemirror_mode": {
    "name": "ipython",
    "version": 3
   },
   "file_extension": ".py",
   "mimetype": "text/x-python",
   "name": "python",
   "nbconvert_exporter": "python",
   "pygments_lexer": "ipython3",
   "version": "3.8.5"
  }
 },
 "nbformat": 4,
 "nbformat_minor": 2
}
